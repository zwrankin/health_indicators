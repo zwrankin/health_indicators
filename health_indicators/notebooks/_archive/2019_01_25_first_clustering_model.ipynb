{
 "cells": [
  {
   "cell_type": "markdown",
   "metadata": {},
   "source": [
    "# Model under development\n",
    "\n",
    "# WARNING\n",
    "For plotly map rendering you must launch jupyter notebooks with a higher data limit:\n",
    "<br> `jupyter notebook --NotebookApp.iopub_data_rate_limit=214748364`\n",
    "\n",
    "# TODO \n",
    "- how to deal with missingness\n",
    "\n"
   ]
  },
  {
   "cell_type": "code",
   "execution_count": 1,
   "metadata": {},
   "outputs": [],
   "source": [
    "%load_ext autoreload\n",
    "%autoreload 2"
   ]
  },
  {
   "cell_type": "code",
   "execution_count": 2,
   "metadata": {},
   "outputs": [],
   "source": [
    "import pandas as pd\n",
    "import matplotlib.pyplot as plt\n",
    "import seaborn as sns\n",
    "from src.data.download_DHS import load_DHS_data"
   ]
  },
  {
   "cell_type": "code",
   "execution_count": 3,
   "metadata": {},
   "outputs": [
    {
     "data": {
      "text/plain": [
       "(10834, 7)"
      ]
     },
     "execution_count": 3,
     "metadata": {},
     "output_type": "execute_result"
    }
   ],
   "source": [
    "df = load_DHS_data()\n",
    "df.shape"
   ]
  },
  {
   "cell_type": "code",
   "execution_count": 4,
   "metadata": {},
   "outputs": [
    {
     "data": {
      "text/html": [
       "<div>\n",
       "<style scoped>\n",
       "    .dataframe tbody tr th:only-of-type {\n",
       "        vertical-align: middle;\n",
       "    }\n",
       "\n",
       "    .dataframe tbody tr th {\n",
       "        vertical-align: top;\n",
       "    }\n",
       "\n",
       "    .dataframe thead th {\n",
       "        text-align: right;\n",
       "    }\n",
       "</style>\n",
       "<table border=\"1\" class=\"dataframe\">\n",
       "  <thead>\n",
       "    <tr style=\"text-align: right;\">\n",
       "      <th></th>\n",
       "      <th>CountryName</th>\n",
       "      <th>DHS_CountryCode</th>\n",
       "      <th>SurveyYear</th>\n",
       "      <th>SurveyId</th>\n",
       "      <th>Indicator</th>\n",
       "      <th>IndicatorId</th>\n",
       "      <th>Value</th>\n",
       "    </tr>\n",
       "  </thead>\n",
       "  <tbody>\n",
       "    <tr>\n",
       "      <th>0</th>\n",
       "      <td>Afghanistan</td>\n",
       "      <td>AF</td>\n",
       "      <td>2015</td>\n",
       "      <td>AF2015DHS</td>\n",
       "      <td>General fertility rate</td>\n",
       "      <td>FE_FRTR_W_GFR</td>\n",
       "      <td>175.0</td>\n",
       "    </tr>\n",
       "    <tr>\n",
       "      <th>1</th>\n",
       "      <td>Albania</td>\n",
       "      <td>AL</td>\n",
       "      <td>2008</td>\n",
       "      <td>AL2008DHS</td>\n",
       "      <td>General fertility rate</td>\n",
       "      <td>FE_FRTR_W_GFR</td>\n",
       "      <td>46.0</td>\n",
       "    </tr>\n",
       "    <tr>\n",
       "      <th>2</th>\n",
       "      <td>Albania</td>\n",
       "      <td>AL</td>\n",
       "      <td>2017</td>\n",
       "      <td>AL2017DHS</td>\n",
       "      <td>General fertility rate</td>\n",
       "      <td>FE_FRTR_W_GFR</td>\n",
       "      <td>57.0</td>\n",
       "    </tr>\n",
       "    <tr>\n",
       "      <th>3</th>\n",
       "      <td>Armenia</td>\n",
       "      <td>AM</td>\n",
       "      <td>2000</td>\n",
       "      <td>AM2000DHS</td>\n",
       "      <td>General fertility rate</td>\n",
       "      <td>FE_FRTR_W_GFR</td>\n",
       "      <td>56.0</td>\n",
       "    </tr>\n",
       "    <tr>\n",
       "      <th>4</th>\n",
       "      <td>Armenia</td>\n",
       "      <td>AM</td>\n",
       "      <td>2005</td>\n",
       "      <td>AM2005DHS</td>\n",
       "      <td>General fertility rate</td>\n",
       "      <td>FE_FRTR_W_GFR</td>\n",
       "      <td>58.0</td>\n",
       "    </tr>\n",
       "  </tbody>\n",
       "</table>\n",
       "</div>"
      ],
      "text/plain": [
       "   CountryName DHS_CountryCode  SurveyYear   SurveyId               Indicator  \\\n",
       "0  Afghanistan              AF        2015  AF2015DHS  General fertility rate   \n",
       "1      Albania              AL        2008  AL2008DHS  General fertility rate   \n",
       "2      Albania              AL        2017  AL2017DHS  General fertility rate   \n",
       "3      Armenia              AM        2000  AM2000DHS  General fertility rate   \n",
       "4      Armenia              AM        2005  AM2005DHS  General fertility rate   \n",
       "\n",
       "     IndicatorId  Value  \n",
       "0  FE_FRTR_W_GFR  175.0  \n",
       "1  FE_FRTR_W_GFR   46.0  \n",
       "2  FE_FRTR_W_GFR   57.0  \n",
       "3  FE_FRTR_W_GFR   56.0  \n",
       "4  FE_FRTR_W_GFR   58.0  "
      ]
     },
     "execution_count": 4,
     "metadata": {},
     "output_type": "execute_result"
    }
   ],
   "source": [
    "df.head()"
   ]
  },
  {
   "cell_type": "code",
   "execution_count": 5,
   "metadata": {},
   "outputs": [],
   "source": [
    "df_wide = df.pivot(index='SurveyId', columns='IndicatorId', values='Value')"
   ]
  },
  {
   "cell_type": "code",
   "execution_count": 6,
   "metadata": {},
   "outputs": [
    {
     "data": {
      "text/html": [
       "<div>\n",
       "<style scoped>\n",
       "    .dataframe tbody tr th:only-of-type {\n",
       "        vertical-align: middle;\n",
       "    }\n",
       "\n",
       "    .dataframe tbody tr th {\n",
       "        vertical-align: top;\n",
       "    }\n",
       "\n",
       "    .dataframe thead th {\n",
       "        text-align: right;\n",
       "    }\n",
       "</style>\n",
       "<table border=\"1\" class=\"dataframe\">\n",
       "  <thead>\n",
       "    <tr style=\"text-align: right;\">\n",
       "      <th>IndicatorId</th>\n",
       "      <th>AH_HINS_W_NON</th>\n",
       "      <th>AH_TOBC_M_NON</th>\n",
       "      <th>AH_TOBC_W_NON</th>\n",
       "      <th>AN_ANEM_W_ANY</th>\n",
       "      <th>AN_ANEM_W_MOD</th>\n",
       "      <th>AN_ANEM_W_SEV</th>\n",
       "      <th>AN_NUTS_W_OWT</th>\n",
       "      <th>AN_NUTS_W_SHT</th>\n",
       "      <th>AN_NUTS_W_TH2</th>\n",
       "      <th>CH_ARIS_C_ARI</th>\n",
       "      <th>...</th>\n",
       "      <th>RH_ANCP_W_SKP</th>\n",
       "      <th>RH_ANCP_W_TOT</th>\n",
       "      <th>RH_DELA_C_TOT</th>\n",
       "      <th>RH_DELP_C_DHF</th>\n",
       "      <th>RH_PAHC_W_PR1</th>\n",
       "      <th>WE_DMKH_W_WIF</th>\n",
       "      <th>WS_SRCE_H_IMP</th>\n",
       "      <th>WS_SRCE_H_PIP</th>\n",
       "      <th>WS_TLET_H_NIM</th>\n",
       "      <th>WS_WTRT_H_APP</th>\n",
       "    </tr>\n",
       "    <tr>\n",
       "      <th>SurveyId</th>\n",
       "      <th></th>\n",
       "      <th></th>\n",
       "      <th></th>\n",
       "      <th></th>\n",
       "      <th></th>\n",
       "      <th></th>\n",
       "      <th></th>\n",
       "      <th></th>\n",
       "      <th></th>\n",
       "      <th></th>\n",
       "      <th></th>\n",
       "      <th></th>\n",
       "      <th></th>\n",
       "      <th></th>\n",
       "      <th></th>\n",
       "      <th></th>\n",
       "      <th></th>\n",
       "      <th></th>\n",
       "      <th></th>\n",
       "      <th></th>\n",
       "      <th></th>\n",
       "    </tr>\n",
       "  </thead>\n",
       "  <tbody>\n",
       "    <tr>\n",
       "      <th>AF2015DHS</th>\n",
       "      <td>100.0</td>\n",
       "      <td>51.8</td>\n",
       "      <td>94.0</td>\n",
       "      <td>NaN</td>\n",
       "      <td>NaN</td>\n",
       "      <td>NaN</td>\n",
       "      <td>NaN</td>\n",
       "      <td>NaN</td>\n",
       "      <td>NaN</td>\n",
       "      <td>12.6</td>\n",
       "      <td>...</td>\n",
       "      <td>58.6</td>\n",
       "      <td>100.0</td>\n",
       "      <td>100.0</td>\n",
       "      <td>48.1</td>\n",
       "      <td>88.5</td>\n",
       "      <td>4.8</td>\n",
       "      <td>65.3</td>\n",
       "      <td>2.3</td>\n",
       "      <td>66.3</td>\n",
       "      <td>6.0</td>\n",
       "    </tr>\n",
       "    <tr>\n",
       "      <th>AL2008DHS</th>\n",
       "      <td>78.5</td>\n",
       "      <td>57.5</td>\n",
       "      <td>95.8</td>\n",
       "      <td>19.0</td>\n",
       "      <td>2.6</td>\n",
       "      <td>0.1</td>\n",
       "      <td>39.3</td>\n",
       "      <td>0.7</td>\n",
       "      <td>0.5</td>\n",
       "      <td>5.4</td>\n",
       "      <td>...</td>\n",
       "      <td>97.3</td>\n",
       "      <td>100.0</td>\n",
       "      <td>100.0</td>\n",
       "      <td>96.7</td>\n",
       "      <td>73.4</td>\n",
       "      <td>19.0</td>\n",
       "      <td>94.5</td>\n",
       "      <td>52.1</td>\n",
       "      <td>5.7</td>\n",
       "      <td>7.3</td>\n",
       "    </tr>\n",
       "    <tr>\n",
       "      <th>AL2017DHS</th>\n",
       "      <td>62.2</td>\n",
       "      <td>64.4</td>\n",
       "      <td>NaN</td>\n",
       "      <td>22.7</td>\n",
       "      <td>3.0</td>\n",
       "      <td>0.4</td>\n",
       "      <td>45.2</td>\n",
       "      <td>0.8</td>\n",
       "      <td>1.0</td>\n",
       "      <td>2.4</td>\n",
       "      <td>...</td>\n",
       "      <td>88.4</td>\n",
       "      <td>100.0</td>\n",
       "      <td>100.0</td>\n",
       "      <td>98.6</td>\n",
       "      <td>37.1</td>\n",
       "      <td>14.5</td>\n",
       "      <td>83.3</td>\n",
       "      <td>48.8</td>\n",
       "      <td>3.0</td>\n",
       "      <td>4.8</td>\n",
       "    </tr>\n",
       "    <tr>\n",
       "      <th>AM2000DHS</th>\n",
       "      <td>NaN</td>\n",
       "      <td>32.6</td>\n",
       "      <td>NaN</td>\n",
       "      <td>12.4</td>\n",
       "      <td>2.0</td>\n",
       "      <td>0.3</td>\n",
       "      <td>41.5</td>\n",
       "      <td>1.1</td>\n",
       "      <td>0.6</td>\n",
       "      <td>11.4</td>\n",
       "      <td>...</td>\n",
       "      <td>92.4</td>\n",
       "      <td>100.0</td>\n",
       "      <td>100.0</td>\n",
       "      <td>91.3</td>\n",
       "      <td>86.8</td>\n",
       "      <td>33.8</td>\n",
       "      <td>94.8</td>\n",
       "      <td>62.8</td>\n",
       "      <td>100.0</td>\n",
       "      <td>NaN</td>\n",
       "    </tr>\n",
       "    <tr>\n",
       "      <th>AM2005DHS</th>\n",
       "      <td>NaN</td>\n",
       "      <td>39.3</td>\n",
       "      <td>98.2</td>\n",
       "      <td>24.6</td>\n",
       "      <td>3.3</td>\n",
       "      <td>0.5</td>\n",
       "      <td>42.4</td>\n",
       "      <td>0.9</td>\n",
       "      <td>1.3</td>\n",
       "      <td>8.0</td>\n",
       "      <td>...</td>\n",
       "      <td>93.0</td>\n",
       "      <td>100.0</td>\n",
       "      <td>100.0</td>\n",
       "      <td>96.4</td>\n",
       "      <td>81.6</td>\n",
       "      <td>33.3</td>\n",
       "      <td>97.2</td>\n",
       "      <td>75.0</td>\n",
       "      <td>6.9</td>\n",
       "      <td>NaN</td>\n",
       "    </tr>\n",
       "  </tbody>\n",
       "</table>\n",
       "<p>5 rows × 58 columns</p>\n",
       "</div>"
      ],
      "text/plain": [
       "IndicatorId  AH_HINS_W_NON  AH_TOBC_M_NON  AH_TOBC_W_NON  AN_ANEM_W_ANY  \\\n",
       "SurveyId                                                                  \n",
       "AF2015DHS            100.0           51.8           94.0            NaN   \n",
       "AL2008DHS             78.5           57.5           95.8           19.0   \n",
       "AL2017DHS             62.2           64.4            NaN           22.7   \n",
       "AM2000DHS              NaN           32.6            NaN           12.4   \n",
       "AM2005DHS              NaN           39.3           98.2           24.6   \n",
       "\n",
       "IndicatorId  AN_ANEM_W_MOD  AN_ANEM_W_SEV  AN_NUTS_W_OWT  AN_NUTS_W_SHT  \\\n",
       "SurveyId                                                                  \n",
       "AF2015DHS              NaN            NaN            NaN            NaN   \n",
       "AL2008DHS              2.6            0.1           39.3            0.7   \n",
       "AL2017DHS              3.0            0.4           45.2            0.8   \n",
       "AM2000DHS              2.0            0.3           41.5            1.1   \n",
       "AM2005DHS              3.3            0.5           42.4            0.9   \n",
       "\n",
       "IndicatorId  AN_NUTS_W_TH2  CH_ARIS_C_ARI      ...        RH_ANCP_W_SKP  \\\n",
       "SurveyId                                       ...                        \n",
       "AF2015DHS              NaN           12.6      ...                 58.6   \n",
       "AL2008DHS              0.5            5.4      ...                 97.3   \n",
       "AL2017DHS              1.0            2.4      ...                 88.4   \n",
       "AM2000DHS              0.6           11.4      ...                 92.4   \n",
       "AM2005DHS              1.3            8.0      ...                 93.0   \n",
       "\n",
       "IndicatorId  RH_ANCP_W_TOT  RH_DELA_C_TOT  RH_DELP_C_DHF  RH_PAHC_W_PR1  \\\n",
       "SurveyId                                                                  \n",
       "AF2015DHS            100.0          100.0           48.1           88.5   \n",
       "AL2008DHS            100.0          100.0           96.7           73.4   \n",
       "AL2017DHS            100.0          100.0           98.6           37.1   \n",
       "AM2000DHS            100.0          100.0           91.3           86.8   \n",
       "AM2005DHS            100.0          100.0           96.4           81.6   \n",
       "\n",
       "IndicatorId  WE_DMKH_W_WIF  WS_SRCE_H_IMP  WS_SRCE_H_PIP  WS_TLET_H_NIM  \\\n",
       "SurveyId                                                                  \n",
       "AF2015DHS              4.8           65.3            2.3           66.3   \n",
       "AL2008DHS             19.0           94.5           52.1            5.7   \n",
       "AL2017DHS             14.5           83.3           48.8            3.0   \n",
       "AM2000DHS             33.8           94.8           62.8          100.0   \n",
       "AM2005DHS             33.3           97.2           75.0            6.9   \n",
       "\n",
       "IndicatorId  WS_WTRT_H_APP  \n",
       "SurveyId                    \n",
       "AF2015DHS              6.0  \n",
       "AL2008DHS              7.3  \n",
       "AL2017DHS              4.8  \n",
       "AM2000DHS              NaN  \n",
       "AM2005DHS              NaN  \n",
       "\n",
       "[5 rows x 58 columns]"
      ]
     },
     "execution_count": 6,
     "metadata": {},
     "output_type": "execute_result"
    }
   ],
   "source": [
    "df_wide.head()"
   ]
  },
  {
   "cell_type": "code",
   "execution_count": 7,
   "metadata": {},
   "outputs": [
    {
     "data": {
      "text/plain": [
       "IndicatorId\n",
       "CP_CLAB_C_CHL    0.964744\n",
       "FG_PPCG_C_NUM    0.945513\n",
       "HC_SMKH_H_DLY    0.810897\n",
       "HA_HIVP_B_HIV    0.769231\n",
       "AH_HINS_W_NON    0.762821\n",
       "dtype: float64"
      ]
     },
     "execution_count": 7,
     "metadata": {},
     "output_type": "execute_result"
    }
   ],
   "source": [
    "indicator_miss = df_wide.isna().mean().sort_values(ascending=False)\n",
    "indicator_miss.head()"
   ]
  },
  {
   "cell_type": "code",
   "execution_count": 8,
   "metadata": {},
   "outputs": [
    {
     "data": {
      "text/plain": [
       "[<matplotlib.lines.Line2D at 0x218bfe15da0>]"
      ]
     },
     "execution_count": 8,
     "metadata": {},
     "output_type": "execute_result"
    },
    {
     "data": {
      "image/png": "[encoded data removed]",
      "text/plain": [
       "<Figure size 432x288 with 1 Axes>"
      ]
     },
     "metadata": {
      "needs_background": "light"
     },
     "output_type": "display_data"
    }
   ],
   "source": [
    "plt.plot(indicator_miss)"
   ]
  },
  {
   "cell_type": "code",
   "execution_count": 9,
   "metadata": {},
   "outputs": [
    {
     "data": {
      "text/plain": [
       "SurveyId\n",
       "ES1985DHS    0.931034\n",
       "ID1987DHS    0.896552\n",
       "EC1987DHS    0.879310\n",
       "VN2005AIS    0.862069\n",
       "PE1986DHS    0.862069\n",
       "dtype: float64"
      ]
     },
     "execution_count": 9,
     "metadata": {},
     "output_type": "execute_result"
    }
   ],
   "source": [
    "survey_miss = df_wide.isna().mean(axis=1).sort_values(ascending=False)\n",
    "survey_miss.head()"
   ]
  },
  {
   "cell_type": "code",
   "execution_count": 10,
   "metadata": {},
   "outputs": [
    {
     "data": {
      "text/plain": [
       "[<matplotlib.lines.Line2D at 0x218bfeaf048>]"
      ]
     },
     "execution_count": 10,
     "metadata": {},
     "output_type": "execute_result"
    },
    {
     "data": {
      "image/png": "[encoded data removed]",
      "text/plain": [
       "<Figure size 432x288 with 1 Axes>"
      ]
     },
     "metadata": {
      "needs_background": "light"
     },
     "output_type": "display_data"
    }
   ],
   "source": [
    "plt.plot(survey_miss)"
   ]
  },
  {
   "cell_type": "code",
   "execution_count": null,
   "metadata": {},
   "outputs": [],
   "source": []
  },
  {
   "cell_type": "markdown",
   "metadata": {},
   "source": [
    "# Subset to latest country survey"
   ]
  },
  {
   "cell_type": "code",
   "execution_count": 11,
   "metadata": {},
   "outputs": [
    {
     "data": {
      "text/html": [
       "<div>\n",
       "<style scoped>\n",
       "    .dataframe tbody tr th:only-of-type {\n",
       "        vertical-align: middle;\n",
       "    }\n",
       "\n",
       "    .dataframe tbody tr th {\n",
       "        vertical-align: top;\n",
       "    }\n",
       "\n",
       "    .dataframe thead th {\n",
       "        text-align: right;\n",
       "    }\n",
       "</style>\n",
       "<table border=\"1\" class=\"dataframe\">\n",
       "  <thead>\n",
       "    <tr style=\"text-align: right;\">\n",
       "      <th></th>\n",
       "      <th>CountryName</th>\n",
       "      <th>DHS_CountryCode</th>\n",
       "      <th>SurveyYear</th>\n",
       "      <th>SurveyId</th>\n",
       "      <th>Indicator</th>\n",
       "      <th>IndicatorId</th>\n",
       "      <th>Value</th>\n",
       "    </tr>\n",
       "  </thead>\n",
       "  <tbody>\n",
       "    <tr>\n",
       "      <th>0</th>\n",
       "      <td>Afghanistan</td>\n",
       "      <td>AF</td>\n",
       "      <td>2015</td>\n",
       "      <td>AF2015DHS</td>\n",
       "      <td>General fertility rate</td>\n",
       "      <td>FE_FRTR_W_GFR</td>\n",
       "      <td>175.0</td>\n",
       "    </tr>\n",
       "    <tr>\n",
       "      <th>1</th>\n",
       "      <td>Albania</td>\n",
       "      <td>AL</td>\n",
       "      <td>2008</td>\n",
       "      <td>AL2008DHS</td>\n",
       "      <td>General fertility rate</td>\n",
       "      <td>FE_FRTR_W_GFR</td>\n",
       "      <td>46.0</td>\n",
       "    </tr>\n",
       "    <tr>\n",
       "      <th>2</th>\n",
       "      <td>Albania</td>\n",
       "      <td>AL</td>\n",
       "      <td>2017</td>\n",
       "      <td>AL2017DHS</td>\n",
       "      <td>General fertility rate</td>\n",
       "      <td>FE_FRTR_W_GFR</td>\n",
       "      <td>57.0</td>\n",
       "    </tr>\n",
       "    <tr>\n",
       "      <th>3</th>\n",
       "      <td>Armenia</td>\n",
       "      <td>AM</td>\n",
       "      <td>2000</td>\n",
       "      <td>AM2000DHS</td>\n",
       "      <td>General fertility rate</td>\n",
       "      <td>FE_FRTR_W_GFR</td>\n",
       "      <td>56.0</td>\n",
       "    </tr>\n",
       "    <tr>\n",
       "      <th>4</th>\n",
       "      <td>Armenia</td>\n",
       "      <td>AM</td>\n",
       "      <td>2005</td>\n",
       "      <td>AM2005DHS</td>\n",
       "      <td>General fertility rate</td>\n",
       "      <td>FE_FRTR_W_GFR</td>\n",
       "      <td>58.0</td>\n",
       "    </tr>\n",
       "  </tbody>\n",
       "</table>\n",
       "</div>"
      ],
      "text/plain": [
       "   CountryName DHS_CountryCode  SurveyYear   SurveyId               Indicator  \\\n",
       "0  Afghanistan              AF        2015  AF2015DHS  General fertility rate   \n",
       "1      Albania              AL        2008  AL2008DHS  General fertility rate   \n",
       "2      Albania              AL        2017  AL2017DHS  General fertility rate   \n",
       "3      Armenia              AM        2000  AM2000DHS  General fertility rate   \n",
       "4      Armenia              AM        2005  AM2005DHS  General fertility rate   \n",
       "\n",
       "     IndicatorId  Value  \n",
       "0  FE_FRTR_W_GFR  175.0  \n",
       "1  FE_FRTR_W_GFR   46.0  \n",
       "2  FE_FRTR_W_GFR   57.0  \n",
       "3  FE_FRTR_W_GFR   56.0  \n",
       "4  FE_FRTR_W_GFR   58.0  "
      ]
     },
     "execution_count": 11,
     "metadata": {},
     "output_type": "execute_result"
    }
   ],
   "source": [
    "df.head()"
   ]
  },
  {
   "cell_type": "code",
   "execution_count": 12,
   "metadata": {},
   "outputs": [
    {
     "data": {
      "text/plain": [
       "305    ZW2015DHS\n",
       "299    ZM2013DHS\n",
       "293    YE2013DHS\n",
       "265    VN2005AIS\n",
       "288    UZ1996DHS\n",
       "Name: SurveyId, dtype: object"
      ]
     },
     "execution_count": 12,
     "metadata": {},
     "output_type": "execute_result"
    }
   ],
   "source": [
    "latest_surveys = df.sort_values(['CountryName','SurveyYear'], ascending=False).drop_duplicates('CountryName')['SurveyId']\n",
    "# df.sort_values(['CountryName', 'SurveyYear'], a).drop_duplicates()\n",
    "latest_surveys.head()"
   ]
  },
  {
   "cell_type": "code",
   "execution_count": 13,
   "metadata": {},
   "outputs": [
    {
     "name": "stdout",
     "output_type": "stream",
     "text": [
      "10834 3146\n"
     ]
    }
   ],
   "source": [
    "df_latest = pd.merge(df, pd.DataFrame(latest_surveys))\n",
    "print(len(df), len(df_latest))"
   ]
  },
  {
   "cell_type": "code",
   "execution_count": 14,
   "metadata": {},
   "outputs": [
    {
     "data": {
      "text/html": [
       "<div>\n",
       "<style scoped>\n",
       "    .dataframe tbody tr th:only-of-type {\n",
       "        vertical-align: middle;\n",
       "    }\n",
       "\n",
       "    .dataframe tbody tr th {\n",
       "        vertical-align: top;\n",
       "    }\n",
       "\n",
       "    .dataframe thead th {\n",
       "        text-align: right;\n",
       "    }\n",
       "</style>\n",
       "<table border=\"1\" class=\"dataframe\">\n",
       "  <thead>\n",
       "    <tr style=\"text-align: right;\">\n",
       "      <th></th>\n",
       "      <th>CountryName</th>\n",
       "      <th>DHS_CountryCode</th>\n",
       "      <th>SurveyYear</th>\n",
       "      <th>SurveyId</th>\n",
       "      <th>Indicator</th>\n",
       "      <th>IndicatorId</th>\n",
       "      <th>Value</th>\n",
       "    </tr>\n",
       "  </thead>\n",
       "  <tbody>\n",
       "    <tr>\n",
       "      <th>0</th>\n",
       "      <td>Afghanistan</td>\n",
       "      <td>AF</td>\n",
       "      <td>2015</td>\n",
       "      <td>AF2015DHS</td>\n",
       "      <td>No health insurance [Women]</td>\n",
       "      <td>AH_HINS_W_NON</td>\n",
       "      <td>100.0</td>\n",
       "    </tr>\n",
       "    <tr>\n",
       "      <th>0</th>\n",
       "      <td>Afghanistan</td>\n",
       "      <td>AF</td>\n",
       "      <td>2015</td>\n",
       "      <td>AF2015DHS</td>\n",
       "      <td>Men who do not smoke</td>\n",
       "      <td>AH_TOBC_M_NON</td>\n",
       "      <td>51.8</td>\n",
       "    </tr>\n",
       "    <tr>\n",
       "      <th>0</th>\n",
       "      <td>Afghanistan</td>\n",
       "      <td>AF</td>\n",
       "      <td>2015</td>\n",
       "      <td>AF2015DHS</td>\n",
       "      <td>Women who do not smoke</td>\n",
       "      <td>AH_TOBC_W_NON</td>\n",
       "      <td>94.0</td>\n",
       "    </tr>\n",
       "    <tr>\n",
       "      <th>1</th>\n",
       "      <td>Afghanistan</td>\n",
       "      <td>AF</td>\n",
       "      <td>2015</td>\n",
       "      <td>AF2015DHS</td>\n",
       "      <td>Children with symptoms of ARI</td>\n",
       "      <td>CH_ARIS_C_ARI</td>\n",
       "      <td>12.6</td>\n",
       "    </tr>\n",
       "    <tr>\n",
       "      <th>1</th>\n",
       "      <td>Afghanistan</td>\n",
       "      <td>AF</td>\n",
       "      <td>2015</td>\n",
       "      <td>AF2015DHS</td>\n",
       "      <td>Children with diarrhea</td>\n",
       "      <td>CH_DIAR_C_DIA</td>\n",
       "      <td>28.7</td>\n",
       "    </tr>\n",
       "  </tbody>\n",
       "</table>\n",
       "</div>"
      ],
      "text/plain": [
       "   CountryName DHS_CountryCode  SurveyYear   SurveyId  \\\n",
       "0  Afghanistan              AF        2015  AF2015DHS   \n",
       "0  Afghanistan              AF        2015  AF2015DHS   \n",
       "0  Afghanistan              AF        2015  AF2015DHS   \n",
       "1  Afghanistan              AF        2015  AF2015DHS   \n",
       "1  Afghanistan              AF        2015  AF2015DHS   \n",
       "\n",
       "                       Indicator    IndicatorId  Value  \n",
       "0    No health insurance [Women]  AH_HINS_W_NON  100.0  \n",
       "0           Men who do not smoke  AH_TOBC_M_NON   51.8  \n",
       "0         Women who do not smoke  AH_TOBC_W_NON   94.0  \n",
       "1  Children with symptoms of ARI  CH_ARIS_C_ARI   12.6  \n",
       "1         Children with diarrhea  CH_DIAR_C_DIA   28.7  "
      ]
     },
     "execution_count": 14,
     "metadata": {},
     "output_type": "execute_result"
    }
   ],
   "source": [
    "df.sort_values(['CountryName', 'SurveyYear', 'IndicatorId']).head()"
   ]
  },
  {
   "cell_type": "code",
   "execution_count": 15,
   "metadata": {},
   "outputs": [
    {
     "data": {
      "text/plain": [
       "IndicatorId\n",
       "FG_PPCG_C_NUM    0.930233\n",
       "CP_CLAB_C_CHL    0.918605\n",
       "FE_AAFB_W_M2A    0.790698\n",
       "HA_HIVP_B_HIV    0.732558\n",
       "AH_TOBC_M_NON    0.639535\n",
       "dtype: float64"
      ]
     },
     "execution_count": 15,
     "metadata": {},
     "output_type": "execute_result"
    }
   ],
   "source": [
    "df_wide = df_latest.pivot(index='SurveyId', columns='IndicatorId', values='Value')\n",
    "indicator_miss = df_wide.isna().mean().sort_values(ascending=False)\n",
    "indicator_miss.head()"
   ]
  },
  {
   "cell_type": "code",
   "execution_count": 16,
   "metadata": {},
   "outputs": [
    {
     "data": {
      "text/plain": [
       "[<matplotlib.lines.Line2D at 0x218c26786a0>]"
      ]
     },
     "execution_count": 16,
     "metadata": {},
     "output_type": "execute_result"
    },
    {
     "data": {
      "image/png": "[encoded data removed]",
      "text/plain": [
       "<Figure size 432x288 with 1 Axes>"
      ]
     },
     "metadata": {
      "needs_background": "light"
     },
     "output_type": "display_data"
    }
   ],
   "source": [
    "plt.plot(indicator_miss)"
   ]
  },
  {
   "cell_type": "code",
   "execution_count": 17,
   "metadata": {},
   "outputs": [
    {
     "data": {
      "text/plain": [
       "SurveyId\n",
       "ES1985DHS    0.931034\n",
       "EC1987DHS    0.879310\n",
       "VN2005AIS    0.862069\n",
       "MX1987DHS    0.862069\n",
       "SD1990DHS    0.844828\n",
       "dtype: float64"
      ]
     },
     "execution_count": 17,
     "metadata": {},
     "output_type": "execute_result"
    }
   ],
   "source": [
    "survey_miss = df_wide.isna().mean(axis=1).sort_values(ascending=False)\n",
    "survey_miss.head()"
   ]
  },
  {
   "cell_type": "code",
   "execution_count": 18,
   "metadata": {},
   "outputs": [
    {
     "data": {
      "text/plain": [
       "[<matplotlib.lines.Line2D at 0x218c274fef0>]"
      ]
     },
     "execution_count": 18,
     "metadata": {},
     "output_type": "execute_result"
    },
    {
     "data": {
      "image/png": "[encoded data removed]",
      "text/plain": [
       "<Figure size 432x288 with 1 Axes>"
      ]
     },
     "metadata": {
      "needs_background": "light"
     },
     "output_type": "display_data"
    }
   ],
   "source": [
    "plt.plot(survey_miss)"
   ]
  },
  {
   "cell_type": "code",
   "execution_count": null,
   "metadata": {},
   "outputs": [],
   "source": []
  },
  {
   "cell_type": "code",
   "execution_count": 19,
   "metadata": {},
   "outputs": [],
   "source": [
    "from sklearn.decomposition import PCA\n",
    "from sklearn.impute import SimpleImputer"
   ]
  },
  {
   "cell_type": "code",
   "execution_count": 20,
   "metadata": {},
   "outputs": [],
   "source": [
    "imputer = SimpleImputer()\n",
    "n_components = 10\n",
    "pca = PCA(n_components=n_components)"
   ]
  },
  {
   "cell_type": "code",
   "execution_count": 21,
   "metadata": {},
   "outputs": [
    {
     "data": {
      "text/html": [
       "<div>\n",
       "<style scoped>\n",
       "    .dataframe tbody tr th:only-of-type {\n",
       "        vertical-align: middle;\n",
       "    }\n",
       "\n",
       "    .dataframe tbody tr th {\n",
       "        vertical-align: top;\n",
       "    }\n",
       "\n",
       "    .dataframe thead th {\n",
       "        text-align: right;\n",
       "    }\n",
       "</style>\n",
       "<table border=\"1\" class=\"dataframe\">\n",
       "  <thead>\n",
       "    <tr style=\"text-align: right;\">\n",
       "      <th></th>\n",
       "      <th>component_0</th>\n",
       "      <th>component_1</th>\n",
       "      <th>component_2</th>\n",
       "      <th>component_3</th>\n",
       "      <th>component_4</th>\n",
       "      <th>component_5</th>\n",
       "      <th>component_6</th>\n",
       "      <th>component_7</th>\n",
       "      <th>component_8</th>\n",
       "      <th>component_9</th>\n",
       "    </tr>\n",
       "    <tr>\n",
       "      <th>SurveyId</th>\n",
       "      <th></th>\n",
       "      <th></th>\n",
       "      <th></th>\n",
       "      <th></th>\n",
       "      <th></th>\n",
       "      <th></th>\n",
       "      <th></th>\n",
       "      <th></th>\n",
       "      <th></th>\n",
       "      <th></th>\n",
       "    </tr>\n",
       "  </thead>\n",
       "  <tbody>\n",
       "    <tr>\n",
       "      <th>AF2015DHS</th>\n",
       "      <td>-1.838685</td>\n",
       "      <td>-0.062773</td>\n",
       "      <td>64.369653</td>\n",
       "      <td>-39.813936</td>\n",
       "      <td>67.295039</td>\n",
       "      <td>-20.933337</td>\n",
       "      <td>-0.677407</td>\n",
       "      <td>2.638163</td>\n",
       "      <td>-20.512016</td>\n",
       "      <td>-2.905551</td>\n",
       "    </tr>\n",
       "    <tr>\n",
       "      <th>AL2017DHS</th>\n",
       "      <td>-386.093128</td>\n",
       "      <td>-22.441257</td>\n",
       "      <td>-115.332281</td>\n",
       "      <td>-23.669631</td>\n",
       "      <td>-25.126999</td>\n",
       "      <td>29.913787</td>\n",
       "      <td>7.872548</td>\n",
       "      <td>-47.145470</td>\n",
       "      <td>-1.349106</td>\n",
       "      <td>8.514527</td>\n",
       "    </tr>\n",
       "    <tr>\n",
       "      <th>AM2016DHS</th>\n",
       "      <td>2.792738</td>\n",
       "      <td>0.213028</td>\n",
       "      <td>-126.436076</td>\n",
       "      <td>-45.419101</td>\n",
       "      <td>19.789759</td>\n",
       "      <td>42.096705</td>\n",
       "      <td>-0.678033</td>\n",
       "      <td>-21.748279</td>\n",
       "      <td>39.943978</td>\n",
       "      <td>17.706607</td>\n",
       "    </tr>\n",
       "    <tr>\n",
       "      <th>AO2015DHS</th>\n",
       "      <td>925.050528</td>\n",
       "      <td>53.782274</td>\n",
       "      <td>115.271110</td>\n",
       "      <td>-55.914182</td>\n",
       "      <td>-2.803000</td>\n",
       "      <td>13.125568</td>\n",
       "      <td>40.169150</td>\n",
       "      <td>18.554959</td>\n",
       "      <td>-22.242835</td>\n",
       "      <td>-12.246616</td>\n",
       "    </tr>\n",
       "    <tr>\n",
       "      <th>AZ2006DHS</th>\n",
       "      <td>1.576327</td>\n",
       "      <td>0.492303</td>\n",
       "      <td>-95.456074</td>\n",
       "      <td>-24.674109</td>\n",
       "      <td>33.706870</td>\n",
       "      <td>-13.676693</td>\n",
       "      <td>38.456515</td>\n",
       "      <td>4.546278</td>\n",
       "      <td>-3.373663</td>\n",
       "      <td>-19.604851</td>\n",
       "    </tr>\n",
       "  </tbody>\n",
       "</table>\n",
       "</div>"
      ],
      "text/plain": [
       "           component_0  component_1  component_2  component_3  component_4  \\\n",
       "SurveyId                                                                     \n",
       "AF2015DHS    -1.838685    -0.062773    64.369653   -39.813936    67.295039   \n",
       "AL2017DHS  -386.093128   -22.441257  -115.332281   -23.669631   -25.126999   \n",
       "AM2016DHS     2.792738     0.213028  -126.436076   -45.419101    19.789759   \n",
       "AO2015DHS   925.050528    53.782274   115.271110   -55.914182    -2.803000   \n",
       "AZ2006DHS     1.576327     0.492303   -95.456074   -24.674109    33.706870   \n",
       "\n",
       "           component_5  component_6  component_7  component_8  component_9  \n",
       "SurveyId                                                                    \n",
       "AF2015DHS   -20.933337    -0.677407     2.638163   -20.512016    -2.905551  \n",
       "AL2017DHS    29.913787     7.872548   -47.145470    -1.349106     8.514527  \n",
       "AM2016DHS    42.096705    -0.678033   -21.748279    39.943978    17.706607  \n",
       "AO2015DHS    13.125568    40.169150    18.554959   -22.242835   -12.246616  \n",
       "AZ2006DHS   -13.676693    38.456515     4.546278    -3.373663   -19.604851  "
      ]
     },
     "execution_count": 21,
     "metadata": {},
     "output_type": "execute_result"
    }
   ],
   "source": [
    "df_transformed = pd.DataFrame(imputer.fit_transform(df_wide), columns=df_wide.columns, index=df_wide.index)\n",
    "cols = [f'component_{i}' for i in range(0, n_components)]\n",
    "df_components = pd.DataFrame(pca.fit_transform(df_transformed), columns=cols, index=df_wide.index)\n",
    "df_components.head()"
   ]
  },
  {
   "cell_type": "code",
   "execution_count": 22,
   "metadata": {},
   "outputs": [
    {
     "data": {
      "text/html": [
       "<div>\n",
       "<style scoped>\n",
       "    .dataframe tbody tr th:only-of-type {\n",
       "        vertical-align: middle;\n",
       "    }\n",
       "\n",
       "    .dataframe tbody tr th {\n",
       "        vertical-align: top;\n",
       "    }\n",
       "\n",
       "    .dataframe thead th {\n",
       "        text-align: right;\n",
       "    }\n",
       "</style>\n",
       "<table border=\"1\" class=\"dataframe\">\n",
       "  <thead>\n",
       "    <tr style=\"text-align: right;\">\n",
       "      <th></th>\n",
       "      <th>component_0</th>\n",
       "      <th>component_1</th>\n",
       "      <th>component_2</th>\n",
       "      <th>component_3</th>\n",
       "      <th>component_4</th>\n",
       "      <th>component_5</th>\n",
       "      <th>component_6</th>\n",
       "      <th>component_7</th>\n",
       "      <th>component_8</th>\n",
       "      <th>component_9</th>\n",
       "      <th>...</th>\n",
       "      <th>RH_ANCP_W_SKP</th>\n",
       "      <th>RH_ANCP_W_TOT</th>\n",
       "      <th>RH_DELA_C_TOT</th>\n",
       "      <th>RH_DELP_C_DHF</th>\n",
       "      <th>RH_PAHC_W_PR1</th>\n",
       "      <th>WE_DMKH_W_WIF</th>\n",
       "      <th>WS_SRCE_H_IMP</th>\n",
       "      <th>WS_SRCE_H_PIP</th>\n",
       "      <th>WS_TLET_H_NIM</th>\n",
       "      <th>WS_WTRT_H_APP</th>\n",
       "    </tr>\n",
       "    <tr>\n",
       "      <th>SurveyId</th>\n",
       "      <th></th>\n",
       "      <th></th>\n",
       "      <th></th>\n",
       "      <th></th>\n",
       "      <th></th>\n",
       "      <th></th>\n",
       "      <th></th>\n",
       "      <th></th>\n",
       "      <th></th>\n",
       "      <th></th>\n",
       "      <th></th>\n",
       "      <th></th>\n",
       "      <th></th>\n",
       "      <th></th>\n",
       "      <th></th>\n",
       "      <th></th>\n",
       "      <th></th>\n",
       "      <th></th>\n",
       "      <th></th>\n",
       "      <th></th>\n",
       "      <th></th>\n",
       "    </tr>\n",
       "  </thead>\n",
       "  <tbody>\n",
       "    <tr>\n",
       "      <th>AF2015DHS</th>\n",
       "      <td>-1.838685</td>\n",
       "      <td>-0.062773</td>\n",
       "      <td>64.369653</td>\n",
       "      <td>-39.813936</td>\n",
       "      <td>67.295039</td>\n",
       "      <td>-20.933337</td>\n",
       "      <td>-0.677407</td>\n",
       "      <td>2.638163</td>\n",
       "      <td>-20.512016</td>\n",
       "      <td>-2.905551</td>\n",
       "      <td>...</td>\n",
       "      <td>58.6</td>\n",
       "      <td>100.0</td>\n",
       "      <td>100.0</td>\n",
       "      <td>48.1</td>\n",
       "      <td>88.5</td>\n",
       "      <td>4.8</td>\n",
       "      <td>65.3</td>\n",
       "      <td>2.3</td>\n",
       "      <td>66.3</td>\n",
       "      <td>6.0</td>\n",
       "    </tr>\n",
       "    <tr>\n",
       "      <th>AL2017DHS</th>\n",
       "      <td>-386.093128</td>\n",
       "      <td>-22.441257</td>\n",
       "      <td>-115.332281</td>\n",
       "      <td>-23.669631</td>\n",
       "      <td>-25.126999</td>\n",
       "      <td>29.913787</td>\n",
       "      <td>7.872548</td>\n",
       "      <td>-47.145470</td>\n",
       "      <td>-1.349106</td>\n",
       "      <td>8.514527</td>\n",
       "      <td>...</td>\n",
       "      <td>88.4</td>\n",
       "      <td>100.0</td>\n",
       "      <td>100.0</td>\n",
       "      <td>98.6</td>\n",
       "      <td>37.1</td>\n",
       "      <td>14.5</td>\n",
       "      <td>83.3</td>\n",
       "      <td>48.8</td>\n",
       "      <td>3.0</td>\n",
       "      <td>4.8</td>\n",
       "    </tr>\n",
       "    <tr>\n",
       "      <th>AM2016DHS</th>\n",
       "      <td>2.792738</td>\n",
       "      <td>0.213028</td>\n",
       "      <td>-126.436076</td>\n",
       "      <td>-45.419101</td>\n",
       "      <td>19.789759</td>\n",
       "      <td>42.096705</td>\n",
       "      <td>-0.678033</td>\n",
       "      <td>-21.748279</td>\n",
       "      <td>39.943978</td>\n",
       "      <td>17.706607</td>\n",
       "      <td>...</td>\n",
       "      <td>99.6</td>\n",
       "      <td>100.0</td>\n",
       "      <td>100.0</td>\n",
       "      <td>99.3</td>\n",
       "      <td>64.1</td>\n",
       "      <td>28.0</td>\n",
       "      <td>98.4</td>\n",
       "      <td>88.3</td>\n",
       "      <td>22.1</td>\n",
       "      <td>5.4</td>\n",
       "    </tr>\n",
       "    <tr>\n",
       "      <th>AO2015DHS</th>\n",
       "      <td>925.050528</td>\n",
       "      <td>53.782274</td>\n",
       "      <td>115.271110</td>\n",
       "      <td>-55.914182</td>\n",
       "      <td>-2.803000</td>\n",
       "      <td>13.125568</td>\n",
       "      <td>40.169150</td>\n",
       "      <td>18.554959</td>\n",
       "      <td>-22.242835</td>\n",
       "      <td>-12.246616</td>\n",
       "      <td>...</td>\n",
       "      <td>81.6</td>\n",
       "      <td>100.0</td>\n",
       "      <td>100.0</td>\n",
       "      <td>45.6</td>\n",
       "      <td>70.2</td>\n",
       "      <td>21.6</td>\n",
       "      <td>52.3</td>\n",
       "      <td>4.3</td>\n",
       "      <td>52.9</td>\n",
       "      <td>32.0</td>\n",
       "    </tr>\n",
       "    <tr>\n",
       "      <th>AZ2006DHS</th>\n",
       "      <td>1.576327</td>\n",
       "      <td>0.492303</td>\n",
       "      <td>-95.456074</td>\n",
       "      <td>-24.674109</td>\n",
       "      <td>33.706870</td>\n",
       "      <td>-13.676693</td>\n",
       "      <td>38.456515</td>\n",
       "      <td>4.546278</td>\n",
       "      <td>-3.373663</td>\n",
       "      <td>-19.604851</td>\n",
       "      <td>...</td>\n",
       "      <td>76.6</td>\n",
       "      <td>100.0</td>\n",
       "      <td>100.0</td>\n",
       "      <td>77.7</td>\n",
       "      <td>81.8</td>\n",
       "      <td>20.1</td>\n",
       "      <td>80.3</td>\n",
       "      <td>34.0</td>\n",
       "      <td>15.2</td>\n",
       "      <td>69.7</td>\n",
       "    </tr>\n",
       "  </tbody>\n",
       "</table>\n",
       "<p>5 rows × 68 columns</p>\n",
       "</div>"
      ],
      "text/plain": [
       "           component_0  component_1  component_2  component_3  component_4  \\\n",
       "SurveyId                                                                     \n",
       "AF2015DHS    -1.838685    -0.062773    64.369653   -39.813936    67.295039   \n",
       "AL2017DHS  -386.093128   -22.441257  -115.332281   -23.669631   -25.126999   \n",
       "AM2016DHS     2.792738     0.213028  -126.436076   -45.419101    19.789759   \n",
       "AO2015DHS   925.050528    53.782274   115.271110   -55.914182    -2.803000   \n",
       "AZ2006DHS     1.576327     0.492303   -95.456074   -24.674109    33.706870   \n",
       "\n",
       "           component_5  component_6  component_7  component_8  component_9  \\\n",
       "SurveyId                                                                     \n",
       "AF2015DHS   -20.933337    -0.677407     2.638163   -20.512016    -2.905551   \n",
       "AL2017DHS    29.913787     7.872548   -47.145470    -1.349106     8.514527   \n",
       "AM2016DHS    42.096705    -0.678033   -21.748279    39.943978    17.706607   \n",
       "AO2015DHS    13.125568    40.169150    18.554959   -22.242835   -12.246616   \n",
       "AZ2006DHS   -13.676693    38.456515     4.546278    -3.373663   -19.604851   \n",
       "\n",
       "               ...        RH_ANCP_W_SKP  RH_ANCP_W_TOT  RH_DELA_C_TOT  \\\n",
       "SurveyId       ...                                                      \n",
       "AF2015DHS      ...                 58.6          100.0          100.0   \n",
       "AL2017DHS      ...                 88.4          100.0          100.0   \n",
       "AM2016DHS      ...                 99.6          100.0          100.0   \n",
       "AO2015DHS      ...                 81.6          100.0          100.0   \n",
       "AZ2006DHS      ...                 76.6          100.0          100.0   \n",
       "\n",
       "           RH_DELP_C_DHF  RH_PAHC_W_PR1  WE_DMKH_W_WIF  WS_SRCE_H_IMP  \\\n",
       "SurveyId                                                                \n",
       "AF2015DHS           48.1           88.5            4.8           65.3   \n",
       "AL2017DHS           98.6           37.1           14.5           83.3   \n",
       "AM2016DHS           99.3           64.1           28.0           98.4   \n",
       "AO2015DHS           45.6           70.2           21.6           52.3   \n",
       "AZ2006DHS           77.7           81.8           20.1           80.3   \n",
       "\n",
       "           WS_SRCE_H_PIP  WS_TLET_H_NIM  WS_WTRT_H_APP  \n",
       "SurveyId                                                \n",
       "AF2015DHS            2.3           66.3            6.0  \n",
       "AL2017DHS           48.8            3.0            4.8  \n",
       "AM2016DHS           88.3           22.1            5.4  \n",
       "AO2015DHS            4.3           52.9           32.0  \n",
       "AZ2006DHS           34.0           15.2           69.7  \n",
       "\n",
       "[5 rows x 68 columns]"
      ]
     },
     "execution_count": 22,
     "metadata": {},
     "output_type": "execute_result"
    }
   ],
   "source": [
    "df_all = pd.concat([df_components, df_transformed], axis=1)\n",
    "df_all.head()"
   ]
  },
  {
   "cell_type": "code",
   "execution_count": 23,
   "metadata": {},
   "outputs": [
    {
     "data": {
      "image/png": "[encoded data removed]",
      "text/plain": [
       "<Figure size 864x720 with 2 Axes>"
      ]
     },
     "metadata": {
      "needs_background": "light"
     },
     "output_type": "display_data"
    }
   ],
   "source": [
    "from src.data.download_DHS import IND_OTHER, IND_CHILD_RISKS\n",
    "inds = IND_CHILD_RISKS\n",
    "corr = df_all[cols + inds].corr()\n",
    "plt.figure(figsize=[12,10])\n",
    "g = sns.heatmap(corr,annot=False, fmt = \".2f\", cmap = \"coolwarm\", center=0)"
   ]
  },
  {
   "cell_type": "code",
   "execution_count": 26,
   "metadata": {},
   "outputs": [
    {
     "data": {
      "text/html": [
       "<div>\n",
       "<style scoped>\n",
       "    .dataframe tbody tr th:only-of-type {\n",
       "        vertical-align: middle;\n",
       "    }\n",
       "\n",
       "    .dataframe tbody tr th {\n",
       "        vertical-align: top;\n",
       "    }\n",
       "\n",
       "    .dataframe thead th {\n",
       "        text-align: right;\n",
       "    }\n",
       "</style>\n",
       "<table border=\"1\" class=\"dataframe\">\n",
       "  <thead>\n",
       "    <tr style=\"text-align: right;\">\n",
       "      <th></th>\n",
       "      <th>component_0</th>\n",
       "      <th>component_1</th>\n",
       "      <th>component_2</th>\n",
       "      <th>component_3</th>\n",
       "      <th>component_4</th>\n",
       "      <th>component_5</th>\n",
       "      <th>component_6</th>\n",
       "      <th>component_7</th>\n",
       "      <th>component_8</th>\n",
       "      <th>component_9</th>\n",
       "      <th>...</th>\n",
       "      <th>AH_HINS_W_NON</th>\n",
       "      <th>WE_DMKH_W_WIF</th>\n",
       "      <th>FG_PPCG_C_NUM</th>\n",
       "      <th>DV_EXPV_W_12M</th>\n",
       "      <th>DV_EXSV_W_EVR</th>\n",
       "      <th>CP_CLAB_C_CHL</th>\n",
       "      <th>ED_EDUC_W_MYR</th>\n",
       "      <th>ED_EDUC_W_CPR</th>\n",
       "      <th>ED_LITR_W_LIT</th>\n",
       "      <th>HC_WIXQ_P_GNI</th>\n",
       "    </tr>\n",
       "  </thead>\n",
       "  <tbody>\n",
       "    <tr>\n",
       "      <th>component_0</th>\n",
       "      <td>1.000000e+00</td>\n",
       "      <td>5.825622e-16</td>\n",
       "      <td>-1.783923e-16</td>\n",
       "      <td>-6.863077e-17</td>\n",
       "      <td>7.292798e-17</td>\n",
       "      <td>1.554189e-16</td>\n",
       "      <td>-1.281206e-16</td>\n",
       "      <td>-1.170326e-16</td>\n",
       "      <td>2.032824e-17</td>\n",
       "      <td>1.841945e-16</td>\n",
       "      <td>...</td>\n",
       "      <td>0.018476</td>\n",
       "      <td>0.249060</td>\n",
       "      <td>-0.112856</td>\n",
       "      <td>0.100844</td>\n",
       "      <td>0.147708</td>\n",
       "      <td>-0.233103</td>\n",
       "      <td>0.195586</td>\n",
       "      <td>0.003583</td>\n",
       "      <td>0.075174</td>\n",
       "      <td>-0.027790</td>\n",
       "    </tr>\n",
       "    <tr>\n",
       "      <th>component_1</th>\n",
       "      <td>5.825622e-16</td>\n",
       "      <td>1.000000e+00</td>\n",
       "      <td>-1.568172e-16</td>\n",
       "      <td>-2.207495e-17</td>\n",
       "      <td>4.812648e-17</td>\n",
       "      <td>1.163532e-16</td>\n",
       "      <td>-1.236346e-16</td>\n",
       "      <td>3.735650e-17</td>\n",
       "      <td>9.238036e-17</td>\n",
       "      <td>-4.244385e-18</td>\n",
       "      <td>...</td>\n",
       "      <td>-0.092419</td>\n",
       "      <td>-0.022700</td>\n",
       "      <td>0.993611</td>\n",
       "      <td>-0.028502</td>\n",
       "      <td>0.039678</td>\n",
       "      <td>0.394322</td>\n",
       "      <td>0.033913</td>\n",
       "      <td>-0.031826</td>\n",
       "      <td>-0.038833</td>\n",
       "      <td>-0.009930</td>\n",
       "    </tr>\n",
       "    <tr>\n",
       "      <th>component_2</th>\n",
       "      <td>-1.783923e-16</td>\n",
       "      <td>-1.568172e-16</td>\n",
       "      <td>1.000000e+00</td>\n",
       "      <td>1.415430e-16</td>\n",
       "      <td>8.262067e-18</td>\n",
       "      <td>-2.010530e-16</td>\n",
       "      <td>-1.186077e-16</td>\n",
       "      <td>-1.926706e-16</td>\n",
       "      <td>-9.507393e-17</td>\n",
       "      <td>-2.439396e-18</td>\n",
       "      <td>...</td>\n",
       "      <td>0.378433</td>\n",
       "      <td>-0.412052</td>\n",
       "      <td>0.000200</td>\n",
       "      <td>0.406394</td>\n",
       "      <td>0.410948</td>\n",
       "      <td>0.172379</td>\n",
       "      <td>-0.529599</td>\n",
       "      <td>-0.088956</td>\n",
       "      <td>-0.593490</td>\n",
       "      <td>0.361493</td>\n",
       "    </tr>\n",
       "    <tr>\n",
       "      <th>component_3</th>\n",
       "      <td>-6.863077e-17</td>\n",
       "      <td>-2.207495e-17</td>\n",
       "      <td>1.415430e-16</td>\n",
       "      <td>1.000000e+00</td>\n",
       "      <td>-2.772444e-16</td>\n",
       "      <td>1.225739e-17</td>\n",
       "      <td>1.304799e-16</td>\n",
       "      <td>3.071572e-16</td>\n",
       "      <td>-1.618175e-16</td>\n",
       "      <td>1.201477e-16</td>\n",
       "      <td>...</td>\n",
       "      <td>0.023758</td>\n",
       "      <td>0.283491</td>\n",
       "      <td>0.000365</td>\n",
       "      <td>-0.133156</td>\n",
       "      <td>-0.006192</td>\n",
       "      <td>-0.001459</td>\n",
       "      <td>-0.330208</td>\n",
       "      <td>0.245609</td>\n",
       "      <td>0.226194</td>\n",
       "      <td>0.215168</td>\n",
       "    </tr>\n",
       "    <tr>\n",
       "      <th>component_4</th>\n",
       "      <td>7.292798e-17</td>\n",
       "      <td>4.812648e-17</td>\n",
       "      <td>8.262067e-18</td>\n",
       "      <td>-2.772444e-16</td>\n",
       "      <td>1.000000e+00</td>\n",
       "      <td>-4.331129e-16</td>\n",
       "      <td>-2.400897e-17</td>\n",
       "      <td>-6.973311e-16</td>\n",
       "      <td>2.330763e-16</td>\n",
       "      <td>-1.016020e-16</td>\n",
       "      <td>...</td>\n",
       "      <td>0.215017</td>\n",
       "      <td>-0.220848</td>\n",
       "      <td>-0.000223</td>\n",
       "      <td>0.151743</td>\n",
       "      <td>-0.197241</td>\n",
       "      <td>0.121152</td>\n",
       "      <td>0.042850</td>\n",
       "      <td>-0.276741</td>\n",
       "      <td>-0.482829</td>\n",
       "      <td>-0.244536</td>\n",
       "    </tr>\n",
       "  </tbody>\n",
       "</table>\n",
       "<p>5 rows × 68 columns</p>\n",
       "</div>"
      ],
      "text/plain": [
       "              component_0   component_1   component_2   component_3  \\\n",
       "component_0  1.000000e+00  5.825622e-16 -1.783923e-16 -6.863077e-17   \n",
       "component_1  5.825622e-16  1.000000e+00 -1.568172e-16 -2.207495e-17   \n",
       "component_2 -1.783923e-16 -1.568172e-16  1.000000e+00  1.415430e-16   \n",
       "component_3 -6.863077e-17 -2.207495e-17  1.415430e-16  1.000000e+00   \n",
       "component_4  7.292798e-17  4.812648e-17  8.262067e-18 -2.772444e-16   \n",
       "\n",
       "              component_4   component_5   component_6   component_7  \\\n",
       "component_0  7.292798e-17  1.554189e-16 -1.281206e-16 -1.170326e-16   \n",
       "component_1  4.812648e-17  1.163532e-16 -1.236346e-16  3.735650e-17   \n",
       "component_2  8.262067e-18 -2.010530e-16 -1.186077e-16 -1.926706e-16   \n",
       "component_3 -2.772444e-16  1.225739e-17  1.304799e-16  3.071572e-16   \n",
       "component_4  1.000000e+00 -4.331129e-16 -2.400897e-17 -6.973311e-16   \n",
       "\n",
       "              component_8   component_9      ...        AH_HINS_W_NON  \\\n",
       "component_0  2.032824e-17  1.841945e-16      ...             0.018476   \n",
       "component_1  9.238036e-17 -4.244385e-18      ...            -0.092419   \n",
       "component_2 -9.507393e-17 -2.439396e-18      ...             0.378433   \n",
       "component_3 -1.618175e-16  1.201477e-16      ...             0.023758   \n",
       "component_4  2.330763e-16 -1.016020e-16      ...             0.215017   \n",
       "\n",
       "             WE_DMKH_W_WIF  FG_PPCG_C_NUM  DV_EXPV_W_12M  DV_EXSV_W_EVR  \\\n",
       "component_0       0.249060      -0.112856       0.100844       0.147708   \n",
       "component_1      -0.022700       0.993611      -0.028502       0.039678   \n",
       "component_2      -0.412052       0.000200       0.406394       0.410948   \n",
       "component_3       0.283491       0.000365      -0.133156      -0.006192   \n",
       "component_4      -0.220848      -0.000223       0.151743      -0.197241   \n",
       "\n",
       "             CP_CLAB_C_CHL  ED_EDUC_W_MYR  ED_EDUC_W_CPR  ED_LITR_W_LIT  \\\n",
       "component_0      -0.233103       0.195586       0.003583       0.075174   \n",
       "component_1       0.394322       0.033913      -0.031826      -0.038833   \n",
       "component_2       0.172379      -0.529599      -0.088956      -0.593490   \n",
       "component_3      -0.001459      -0.330208       0.245609       0.226194   \n",
       "component_4       0.121152       0.042850      -0.276741      -0.482829   \n",
       "\n",
       "             HC_WIXQ_P_GNI  \n",
       "component_0      -0.027790  \n",
       "component_1      -0.009930  \n",
       "component_2       0.361493  \n",
       "component_3       0.215168  \n",
       "component_4      -0.244536  \n",
       "\n",
       "[5 rows x 68 columns]"
      ]
     },
     "execution_count": 26,
     "metadata": {},
     "output_type": "execute_result"
    }
   ],
   "source": [
    "corr.head()"
   ]
  },
  {
   "cell_type": "code",
   "execution_count": 31,
   "metadata": {},
   "outputs": [
    {
     "data": {
      "image/png": "[encoded data removed]",
      "text/plain": [
       "<Figure size 720x1440 with 2 Axes>"
      ]
     },
     "metadata": {
      "needs_background": "light"
     },
     "output_type": "display_data"
    }
   ],
   "source": [
    "from src.data.download_DHS import INDICATORS\n",
    "inds = [i for i in INDICATORS if i in df_all.columns]\n",
    "corr = df_all[cols + inds].corr().drop(cols, axis=0).drop(inds, axis=1)\n",
    "plt.figure(figsize=[10,20])\n",
    "g = sns.heatmap(corr,annot=False, fmt = \".2f\", cmap = \"coolwarm\", center=0)"
   ]
  },
  {
   "cell_type": "code",
   "execution_count": 78,
   "metadata": {},
   "outputs": [
    {
     "data": {
      "text/html": [
       "<div>\n",
       "<style scoped>\n",
       "    .dataframe tbody tr th:only-of-type {\n",
       "        vertical-align: middle;\n",
       "    }\n",
       "\n",
       "    .dataframe tbody tr th {\n",
       "        vertical-align: top;\n",
       "    }\n",
       "\n",
       "    .dataframe thead th {\n",
       "        text-align: right;\n",
       "    }\n",
       "</style>\n",
       "<table border=\"1\" class=\"dataframe\">\n",
       "  <thead>\n",
       "    <tr style=\"text-align: right;\">\n",
       "      <th></th>\n",
       "      <th>component_0</th>\n",
       "      <th>component_1</th>\n",
       "      <th>component_2</th>\n",
       "      <th>component_3</th>\n",
       "      <th>component_4</th>\n",
       "      <th>component_5</th>\n",
       "      <th>component_6</th>\n",
       "      <th>component_7</th>\n",
       "      <th>component_8</th>\n",
       "      <th>component_9</th>\n",
       "    </tr>\n",
       "    <tr>\n",
       "      <th>SurveyId</th>\n",
       "      <th></th>\n",
       "      <th></th>\n",
       "      <th></th>\n",
       "      <th></th>\n",
       "      <th></th>\n",
       "      <th></th>\n",
       "      <th></th>\n",
       "      <th></th>\n",
       "      <th></th>\n",
       "      <th></th>\n",
       "    </tr>\n",
       "  </thead>\n",
       "  <tbody>\n",
       "    <tr>\n",
       "      <th>AF2015DHS</th>\n",
       "      <td>-1.838685</td>\n",
       "      <td>-0.062773</td>\n",
       "      <td>64.369653</td>\n",
       "      <td>-39.813936</td>\n",
       "      <td>67.295039</td>\n",
       "      <td>-20.933337</td>\n",
       "      <td>-0.677407</td>\n",
       "      <td>2.638163</td>\n",
       "      <td>-20.512016</td>\n",
       "      <td>-2.905551</td>\n",
       "    </tr>\n",
       "    <tr>\n",
       "      <th>AL2017DHS</th>\n",
       "      <td>-386.093128</td>\n",
       "      <td>-22.441257</td>\n",
       "      <td>-115.332281</td>\n",
       "      <td>-23.669631</td>\n",
       "      <td>-25.126999</td>\n",
       "      <td>29.913787</td>\n",
       "      <td>7.872548</td>\n",
       "      <td>-47.145470</td>\n",
       "      <td>-1.349106</td>\n",
       "      <td>8.514527</td>\n",
       "    </tr>\n",
       "    <tr>\n",
       "      <th>AM2016DHS</th>\n",
       "      <td>2.792738</td>\n",
       "      <td>0.213028</td>\n",
       "      <td>-126.436076</td>\n",
       "      <td>-45.419101</td>\n",
       "      <td>19.789759</td>\n",
       "      <td>42.096705</td>\n",
       "      <td>-0.678033</td>\n",
       "      <td>-21.748279</td>\n",
       "      <td>39.943978</td>\n",
       "      <td>17.706607</td>\n",
       "    </tr>\n",
       "    <tr>\n",
       "      <th>AO2015DHS</th>\n",
       "      <td>925.050528</td>\n",
       "      <td>53.782274</td>\n",
       "      <td>115.271110</td>\n",
       "      <td>-55.914182</td>\n",
       "      <td>-2.803000</td>\n",
       "      <td>13.125568</td>\n",
       "      <td>40.169150</td>\n",
       "      <td>18.554959</td>\n",
       "      <td>-22.242835</td>\n",
       "      <td>-12.246616</td>\n",
       "    </tr>\n",
       "    <tr>\n",
       "      <th>AZ2006DHS</th>\n",
       "      <td>1.576327</td>\n",
       "      <td>0.492303</td>\n",
       "      <td>-95.456074</td>\n",
       "      <td>-24.674109</td>\n",
       "      <td>33.706870</td>\n",
       "      <td>-13.676693</td>\n",
       "      <td>38.456515</td>\n",
       "      <td>4.546278</td>\n",
       "      <td>-3.373663</td>\n",
       "      <td>-19.604851</td>\n",
       "    </tr>\n",
       "  </tbody>\n",
       "</table>\n",
       "</div>"
      ],
      "text/plain": [
       "           component_0  component_1  component_2  component_3  component_4  \\\n",
       "SurveyId                                                                     \n",
       "AF2015DHS    -1.838685    -0.062773    64.369653   -39.813936    67.295039   \n",
       "AL2017DHS  -386.093128   -22.441257  -115.332281   -23.669631   -25.126999   \n",
       "AM2016DHS     2.792738     0.213028  -126.436076   -45.419101    19.789759   \n",
       "AO2015DHS   925.050528    53.782274   115.271110   -55.914182    -2.803000   \n",
       "AZ2006DHS     1.576327     0.492303   -95.456074   -24.674109    33.706870   \n",
       "\n",
       "           component_5  component_6  component_7  component_8  component_9  \n",
       "SurveyId                                                                    \n",
       "AF2015DHS   -20.933337    -0.677407     2.638163   -20.512016    -2.905551  \n",
       "AL2017DHS    29.913787     7.872548   -47.145470    -1.349106     8.514527  \n",
       "AM2016DHS    42.096705    -0.678033   -21.748279    39.943978    17.706607  \n",
       "AO2015DHS    13.125568    40.169150    18.554959   -22.242835   -12.246616  \n",
       "AZ2006DHS   -13.676693    38.456515     4.546278    -3.373663   -19.604851  "
      ]
     },
     "execution_count": 78,
     "metadata": {},
     "output_type": "execute_result"
    }
   ],
   "source": [
    "df_components.head()"
   ]
  },
  {
   "cell_type": "code",
   "execution_count": 33,
   "metadata": {},
   "outputs": [],
   "source": [
    "from sklearn.cluster import KMeans\n",
    "kmean = KMeans(n_clusters=8)"
   ]
  },
  {
   "cell_type": "code",
   "execution_count": 34,
   "metadata": {},
   "outputs": [],
   "source": [
    "kmean.fit(df_components)\n",
    "df_all['cluster'] = kmean.labels_\n",
    "df_transformed['cluster'] = kmean.labels_ # pd.Series(kmean.labels_, dtype='str')\n",
    "# df_transformed['cluster'] = df_transformed['cluster'].astype(str)"
   ]
  },
  {
   "cell_type": "code",
   "execution_count": 35,
   "metadata": {},
   "outputs": [
    {
     "data": {
      "text/plain": [
       "0    46\n",
       "7    13\n",
       "2    12\n",
       "6     6\n",
       "3     6\n",
       "5     1\n",
       "4     1\n",
       "1     1\n",
       "Name: cluster, dtype: int64"
      ]
     },
     "execution_count": 35,
     "metadata": {},
     "output_type": "execute_result"
    }
   ],
   "source": [
    "df_transformed.cluster.value_counts()"
   ]
  },
  {
   "cell_type": "code",
   "execution_count": 36,
   "metadata": {},
   "outputs": [
    {
     "data": {
      "text/html": [
       "<div>\n",
       "<style scoped>\n",
       "    .dataframe tbody tr th:only-of-type {\n",
       "        vertical-align: middle;\n",
       "    }\n",
       "\n",
       "    .dataframe tbody tr th {\n",
       "        vertical-align: top;\n",
       "    }\n",
       "\n",
       "    .dataframe thead th {\n",
       "        text-align: right;\n",
       "    }\n",
       "</style>\n",
       "<table border=\"1\" class=\"dataframe\">\n",
       "  <thead>\n",
       "    <tr style=\"text-align: right;\">\n",
       "      <th>IndicatorId</th>\n",
       "      <th>cluster</th>\n",
       "    </tr>\n",
       "    <tr>\n",
       "      <th>SurveyId</th>\n",
       "      <th></th>\n",
       "    </tr>\n",
       "  </thead>\n",
       "  <tbody>\n",
       "    <tr>\n",
       "      <th>AF2015DHS</th>\n",
       "      <td>0</td>\n",
       "    </tr>\n",
       "    <tr>\n",
       "      <th>AL2017DHS</th>\n",
       "      <td>2</td>\n",
       "    </tr>\n",
       "    <tr>\n",
       "      <th>AM2016DHS</th>\n",
       "      <td>0</td>\n",
       "    </tr>\n",
       "    <tr>\n",
       "      <th>AO2015DHS</th>\n",
       "      <td>3</td>\n",
       "    </tr>\n",
       "    <tr>\n",
       "      <th>AZ2006DHS</th>\n",
       "      <td>0</td>\n",
       "    </tr>\n",
       "  </tbody>\n",
       "</table>\n",
       "</div>"
      ],
      "text/plain": [
       "IndicatorId  cluster\n",
       "SurveyId            \n",
       "AF2015DHS          0\n",
       "AL2017DHS          2\n",
       "AM2016DHS          0\n",
       "AO2015DHS          3\n",
       "AZ2006DHS          0"
      ]
     },
     "execution_count": 36,
     "metadata": {},
     "output_type": "execute_result"
    }
   ],
   "source": [
    "df_transformed[['cluster']].head()"
   ]
  },
  {
   "cell_type": "code",
   "execution_count": null,
   "metadata": {},
   "outputs": [],
   "source": []
  },
  {
   "cell_type": "code",
   "execution_count": 37,
   "metadata": {},
   "outputs": [
    {
     "data": {
      "text/plain": [
       "<matplotlib.axes._subplots.AxesSubplot at 0x218c42c3208>"
      ]
     },
     "execution_count": 37,
     "metadata": {},
     "output_type": "execute_result"
    },
    {
     "data": {
      "image/png": "[encoded data removed]",
      "text/plain": [
       "<Figure size 432x288 with 1 Axes>"
      ]
     },
     "metadata": {
      "needs_background": "light"
     },
     "output_type": "display_data"
    }
   ],
   "source": [
    "sns.scatterplot('CN_NUTS_C_WH3', 'FE_FRTR_W_GFR', hue='cluster', data=df_transformed)"
   ]
  },
  {
   "cell_type": "code",
   "execution_count": 38,
   "metadata": {},
   "outputs": [
    {
     "data": {
      "text/plain": [
       "<matplotlib.axes._subplots.AxesSubplot at 0x218c4344f60>"
      ]
     },
     "execution_count": 38,
     "metadata": {},
     "output_type": "execute_result"
    },
    {
     "data": {
      "image/png": "[encoded data removed]",
      "text/plain": [
       "<Figure size 432x288 with 1 Axes>"
      ]
     },
     "metadata": {
      "needs_background": "light"
     },
     "output_type": "display_data"
    }
   ],
   "source": [
    "sns.scatterplot('component_0', 'component_1', hue='cluster', data=df_all)"
   ]
  },
  {
   "cell_type": "code",
   "execution_count": 39,
   "metadata": {},
   "outputs": [
    {
     "data": {
      "text/plain": [
       "<seaborn.axisgrid.FacetGrid at 0x218c46bc198>"
      ]
     },
     "execution_count": 39,
     "metadata": {},
     "output_type": "execute_result"
    },
    {
     "data": {
      "image/png": "[encoded data removed]",
      "text/plain": [
       "<Figure size 360x360 with 1 Axes>"
      ]
     },
     "metadata": {
      "needs_background": "light"
     },
     "output_type": "display_data"
    }
   ],
   "source": [
    "sns.catplot(\"cluster\", y=\"FE_FRTR_W_GFR\", data=df_all)"
   ]
  },
  {
   "cell_type": "code",
   "execution_count": 40,
   "metadata": {},
   "outputs": [
    {
     "data": {
      "text/plain": [
       "<seaborn.axisgrid.FacetGrid at 0x218c48ede48>"
      ]
     },
     "execution_count": 40,
     "metadata": {},
     "output_type": "execute_result"
    },
    {
     "data": {
      "image/png": "[encoded data removed]",
      "text/plain": [
       "<Figure size 360x360 with 1 Axes>"
      ]
     },
     "metadata": {
      "needs_background": "light"
     },
     "output_type": "display_data"
    }
   ],
   "source": [
    "sns.catplot(\"cluster\", y=\"component_0\", data=df_all)"
   ]
  },
  {
   "cell_type": "code",
   "execution_count": 41,
   "metadata": {},
   "outputs": [
    {
     "data": {
      "text/plain": [
       "<matplotlib.axes._subplots.AxesSubplot at 0x218c4988550>"
      ]
     },
     "execution_count": 41,
     "metadata": {},
     "output_type": "execute_result"
    },
    {
     "data": {
      "image/png": "[encoded data removed]",
      "text/plain": [
       "<Figure size 432x288 with 1 Axes>"
      ]
     },
     "metadata": {
      "needs_background": "light"
     },
     "output_type": "display_data"
    }
   ],
   "source": [
    "sns.scatterplot('component_0', 'FE_FRTR_W_GFR', hue='cluster', data=df_all)"
   ]
  },
  {
   "cell_type": "code",
   "execution_count": 46,
   "metadata": {},
   "outputs": [
    {
     "data": {
      "text/html": [
       "<div>\n",
       "<style scoped>\n",
       "    .dataframe tbody tr th:only-of-type {\n",
       "        vertical-align: middle;\n",
       "    }\n",
       "\n",
       "    .dataframe tbody tr th {\n",
       "        vertical-align: top;\n",
       "    }\n",
       "\n",
       "    .dataframe thead th {\n",
       "        text-align: right;\n",
       "    }\n",
       "</style>\n",
       "<table border=\"1\" class=\"dataframe\">\n",
       "  <thead>\n",
       "    <tr style=\"text-align: right;\">\n",
       "      <th>cluster</th>\n",
       "      <th>0</th>\n",
       "      <th>1</th>\n",
       "      <th>2</th>\n",
       "      <th>3</th>\n",
       "      <th>4</th>\n",
       "      <th>5</th>\n",
       "      <th>6</th>\n",
       "      <th>7</th>\n",
       "    </tr>\n",
       "  </thead>\n",
       "  <tbody>\n",
       "    <tr>\n",
       "      <th>FE_FRTR_W_GFR</th>\n",
       "      <td>130.923018</td>\n",
       "      <td>70.000000</td>\n",
       "      <td>116.250000</td>\n",
       "      <td>142.166667</td>\n",
       "      <td>176.0</td>\n",
       "      <td>175.000000</td>\n",
       "      <td>146.000000</td>\n",
       "      <td>153.538462</td>\n",
       "    </tr>\n",
       "    <tr>\n",
       "      <th>FE_AAFB_W_M2A</th>\n",
       "      <td>19.291908</td>\n",
       "      <td>19.305556</td>\n",
       "      <td>19.245833</td>\n",
       "      <td>19.419444</td>\n",
       "      <td>18.8</td>\n",
       "      <td>19.305556</td>\n",
       "      <td>19.519444</td>\n",
       "      <td>19.296581</td>\n",
       "    </tr>\n",
       "    <tr>\n",
       "      <th>FP_KMTA_W_MOD</th>\n",
       "      <td>93.874466</td>\n",
       "      <td>99.800000</td>\n",
       "      <td>92.200000</td>\n",
       "      <td>90.350000</td>\n",
       "      <td>89.8</td>\n",
       "      <td>82.400000</td>\n",
       "      <td>95.800000</td>\n",
       "      <td>91.161538</td>\n",
       "    </tr>\n",
       "    <tr>\n",
       "      <th>FP_NADU_W_NUM</th>\n",
       "      <td>715.771739</td>\n",
       "      <td>4982.000000</td>\n",
       "      <td>351.750000</td>\n",
       "      <td>1644.333333</td>\n",
       "      <td>387.0</td>\n",
       "      <td>918.000000</td>\n",
       "      <td>1152.333333</td>\n",
       "      <td>83.307692</td>\n",
       "    </tr>\n",
       "    <tr>\n",
       "      <th>MA_AAFM_W_M2A</th>\n",
       "      <td>18.613534</td>\n",
       "      <td>18.574194</td>\n",
       "      <td>18.409946</td>\n",
       "      <td>18.761828</td>\n",
       "      <td>17.2</td>\n",
       "      <td>19.900000</td>\n",
       "      <td>19.112366</td>\n",
       "      <td>18.255335</td>\n",
       "    </tr>\n",
       "  </tbody>\n",
       "</table>\n",
       "</div>"
      ],
      "text/plain": [
       "cluster                 0            1           2            3      4  \\\n",
       "FE_FRTR_W_GFR  130.923018    70.000000  116.250000   142.166667  176.0   \n",
       "FE_AAFB_W_M2A   19.291908    19.305556   19.245833    19.419444   18.8   \n",
       "FP_KMTA_W_MOD   93.874466    99.800000   92.200000    90.350000   89.8   \n",
       "FP_NADU_W_NUM  715.771739  4982.000000  351.750000  1644.333333  387.0   \n",
       "MA_AAFM_W_M2A   18.613534    18.574194   18.409946    18.761828   17.2   \n",
       "\n",
       "cluster                 5            6           7  \n",
       "FE_FRTR_W_GFR  175.000000   146.000000  153.538462  \n",
       "FE_AAFB_W_M2A   19.305556    19.519444   19.296581  \n",
       "FP_KMTA_W_MOD   82.400000    95.800000   91.161538  \n",
       "FP_NADU_W_NUM  918.000000  1152.333333   83.307692  \n",
       "MA_AAFM_W_M2A   19.900000    19.112366   18.255335  "
      ]
     },
     "execution_count": 46,
     "metadata": {},
     "output_type": "execute_result"
    }
   ],
   "source": [
    "inds = [i for i in INDICATORS if i in df_all.columns]\n",
    "data = df_all.groupby('cluster')[inds].mean().T\n",
    "data.head()\n",
    "# plt.figure(figsize=[10,20])\n",
    "# g = sns.heatmap(data,annot=False, fmt = \".2f\", cmap = \"coolwarm\", center=0)"
   ]
  },
  {
   "cell_type": "code",
   "execution_count": 57,
   "metadata": {},
   "outputs": [
    {
     "data": {
      "text/html": [
       "<div>\n",
       "<style scoped>\n",
       "    .dataframe tbody tr th:only-of-type {\n",
       "        vertical-align: middle;\n",
       "    }\n",
       "\n",
       "    .dataframe tbody tr th {\n",
       "        vertical-align: top;\n",
       "    }\n",
       "\n",
       "    .dataframe thead th {\n",
       "        text-align: right;\n",
       "    }\n",
       "</style>\n",
       "<table border=\"1\" class=\"dataframe\">\n",
       "  <thead>\n",
       "    <tr style=\"text-align: right;\">\n",
       "      <th>cluster</th>\n",
       "      <th>0</th>\n",
       "      <th>1</th>\n",
       "      <th>2</th>\n",
       "      <th>3</th>\n",
       "      <th>4</th>\n",
       "      <th>5</th>\n",
       "      <th>6</th>\n",
       "      <th>7</th>\n",
       "    </tr>\n",
       "  </thead>\n",
       "  <tbody>\n",
       "    <tr>\n",
       "      <th>FE_FRTR_W_GFR</th>\n",
       "      <td>0.399665</td>\n",
       "      <td>0.134783</td>\n",
       "      <td>0.335870</td>\n",
       "      <td>0.448551</td>\n",
       "      <td>0.595652</td>\n",
       "      <td>0.591304</td>\n",
       "      <td>0.465217</td>\n",
       "      <td>0.497993</td>\n",
       "    </tr>\n",
       "    <tr>\n",
       "      <th>FE_AAFB_W_M2A</th>\n",
       "      <td>0.662171</td>\n",
       "      <td>0.669753</td>\n",
       "      <td>0.636574</td>\n",
       "      <td>0.733025</td>\n",
       "      <td>0.388889</td>\n",
       "      <td>0.669753</td>\n",
       "      <td>0.788580</td>\n",
       "      <td>0.664767</td>\n",
       "    </tr>\n",
       "    <tr>\n",
       "      <th>FP_KMTA_W_MOD</th>\n",
       "      <td>0.838023</td>\n",
       "      <td>0.997312</td>\n",
       "      <td>0.793011</td>\n",
       "      <td>0.743280</td>\n",
       "      <td>0.728495</td>\n",
       "      <td>0.529570</td>\n",
       "      <td>0.889785</td>\n",
       "      <td>0.765095</td>\n",
       "    </tr>\n",
       "    <tr>\n",
       "      <th>FP_NADU_W_NUM</th>\n",
       "      <td>0.140393</td>\n",
       "      <td>1.000000</td>\n",
       "      <td>0.067046</td>\n",
       "      <td>0.327490</td>\n",
       "      <td>0.074149</td>\n",
       "      <td>0.181140</td>\n",
       "      <td>0.228357</td>\n",
       "      <td>0.012957</td>\n",
       "    </tr>\n",
       "    <tr>\n",
       "      <th>MA_AAFM_W_M2A</th>\n",
       "      <td>0.669889</td>\n",
       "      <td>0.660522</td>\n",
       "      <td>0.621416</td>\n",
       "      <td>0.705197</td>\n",
       "      <td>0.333333</td>\n",
       "      <td>0.976190</td>\n",
       "      <td>0.788658</td>\n",
       "      <td>0.584604</td>\n",
       "    </tr>\n",
       "  </tbody>\n",
       "</table>\n",
       "</div>"
      ],
      "text/plain": [
       "cluster               0         1         2         3         4         5  \\\n",
       "FE_FRTR_W_GFR  0.399665  0.134783  0.335870  0.448551  0.595652  0.591304   \n",
       "FE_AAFB_W_M2A  0.662171  0.669753  0.636574  0.733025  0.388889  0.669753   \n",
       "FP_KMTA_W_MOD  0.838023  0.997312  0.793011  0.743280  0.728495  0.529570   \n",
       "FP_NADU_W_NUM  0.140393  1.000000  0.067046  0.327490  0.074149  0.181140   \n",
       "MA_AAFM_W_M2A  0.669889  0.660522  0.621416  0.705197  0.333333  0.976190   \n",
       "\n",
       "cluster               6         7  \n",
       "FE_FRTR_W_GFR  0.465217  0.497993  \n",
       "FE_AAFB_W_M2A  0.788580  0.664767  \n",
       "FP_KMTA_W_MOD  0.889785  0.765095  \n",
       "FP_NADU_W_NUM  0.228357  0.012957  \n",
       "MA_AAFM_W_M2A  0.788658  0.584604  "
      ]
     },
     "execution_count": 57,
     "metadata": {},
     "output_type": "execute_result"
    }
   ],
   "source": [
    "from sklearn.preprocessing import StandardScaler, MinMaxScaler\n",
    "scaler = MinMaxScaler() # StandardScaler()\n",
    "data = pd.DataFrame(scaler.fit_transform(df_all.drop('cluster', axis=1)), \n",
    "             columns=df_all.drop('cluster', axis=1).columns, index=df_all.index)\n",
    "data['cluster'] = df_all['cluster']\n",
    "data.head()\n",
    "data = data.groupby('cluster')[inds].mean().T\n",
    "data.head()"
   ]
  },
  {
   "cell_type": "code",
   "execution_count": 56,
   "metadata": {},
   "outputs": [],
   "source": [
    "StandardScaler?"
   ]
  },
  {
   "cell_type": "code",
   "execution_count": 59,
   "metadata": {},
   "outputs": [
    {
     "data": {
      "image/png": "[encoded data removed]",
      "text/plain": [
       "<Figure size 720x1440 with 2 Axes>"
      ]
     },
     "metadata": {
      "needs_background": "light"
     },
     "output_type": "display_data"
    }
   ],
   "source": [
    "plt.figure(figsize=[10,20])\n",
    "g = sns.heatmap(data,annot=False, fmt = \".2f\", cmap = \"coolwarm\", center=0.5)"
   ]
  },
  {
   "cell_type": "code",
   "execution_count": null,
   "metadata": {},
   "outputs": [],
   "source": []
  },
  {
   "cell_type": "markdown",
   "metadata": {},
   "source": [
    "# Map clusters"
   ]
  },
  {
   "cell_type": "code",
   "execution_count": 29,
   "metadata": {},
   "outputs": [],
   "source": [
    "from src.data.download_DHS import load_country_codebook\n",
    "codebook = load_country_codebook()"
   ]
  },
  {
   "cell_type": "code",
   "execution_count": 30,
   "metadata": {},
   "outputs": [
    {
     "data": {
      "text/html": [
       "<div>\n",
       "<style scoped>\n",
       "    .dataframe tbody tr th:only-of-type {\n",
       "        vertical-align: middle;\n",
       "    }\n",
       "\n",
       "    .dataframe tbody tr th {\n",
       "        vertical-align: top;\n",
       "    }\n",
       "\n",
       "    .dataframe thead th {\n",
       "        text-align: right;\n",
       "    }\n",
       "</style>\n",
       "<table border=\"1\" class=\"dataframe\">\n",
       "  <thead>\n",
       "    <tr style=\"text-align: right;\">\n",
       "      <th></th>\n",
       "      <th>CountryName</th>\n",
       "      <th>ISO3_CountryCode</th>\n",
       "      <th>SurveyId</th>\n",
       "    </tr>\n",
       "  </thead>\n",
       "  <tbody>\n",
       "    <tr>\n",
       "      <th>0</th>\n",
       "      <td>Afghanistan</td>\n",
       "      <td>AFG</td>\n",
       "      <td>AF2015DHS</td>\n",
       "    </tr>\n",
       "    <tr>\n",
       "      <th>1</th>\n",
       "      <td>Albania</td>\n",
       "      <td>ALB</td>\n",
       "      <td>AL2008DHS</td>\n",
       "    </tr>\n",
       "    <tr>\n",
       "      <th>2</th>\n",
       "      <td>Albania</td>\n",
       "      <td>ALB</td>\n",
       "      <td>AL2017DHS</td>\n",
       "    </tr>\n",
       "    <tr>\n",
       "      <th>3</th>\n",
       "      <td>Angola</td>\n",
       "      <td>AGO</td>\n",
       "      <td>AO2006MIS</td>\n",
       "    </tr>\n",
       "    <tr>\n",
       "      <th>4</th>\n",
       "      <td>Angola</td>\n",
       "      <td>AGO</td>\n",
       "      <td>AO2011MIS</td>\n",
       "    </tr>\n",
       "  </tbody>\n",
       "</table>\n",
       "</div>"
      ],
      "text/plain": [
       "   CountryName ISO3_CountryCode   SurveyId\n",
       "0  Afghanistan              AFG  AF2015DHS\n",
       "1      Albania              ALB  AL2008DHS\n",
       "2      Albania              ALB  AL2017DHS\n",
       "3       Angola              AGO  AO2006MIS\n",
       "4       Angola              AGO  AO2011MIS"
      ]
     },
     "execution_count": 30,
     "metadata": {},
     "output_type": "execute_result"
    }
   ],
   "source": [
    "dhs_country_codebook = pd.merge(codebook[['CountryName', 'ISO3_CountryCode']], df.drop_duplicates('SurveyId')[['SurveyId', 'CountryName']])\n",
    "dhs_country_codebook.head()"
   ]
  },
  {
   "cell_type": "code",
   "execution_count": 31,
   "metadata": {},
   "outputs": [
    {
     "data": {
      "text/html": [
       "<div>\n",
       "<style scoped>\n",
       "    .dataframe tbody tr th:only-of-type {\n",
       "        vertical-align: middle;\n",
       "    }\n",
       "\n",
       "    .dataframe tbody tr th {\n",
       "        vertical-align: top;\n",
       "    }\n",
       "\n",
       "    .dataframe thead th {\n",
       "        text-align: right;\n",
       "    }\n",
       "</style>\n",
       "<table border=\"1\" class=\"dataframe\">\n",
       "  <thead>\n",
       "    <tr style=\"text-align: right;\">\n",
       "      <th></th>\n",
       "      <th>CountryName</th>\n",
       "      <th>ISO3_CountryCode</th>\n",
       "      <th>SurveyId</th>\n",
       "      <th>AH_HINS_W_NON</th>\n",
       "      <th>AH_TOBC_M_NON</th>\n",
       "      <th>AH_TOBC_W_NON</th>\n",
       "      <th>AN_ANEM_W_ANY</th>\n",
       "      <th>AN_ANEM_W_MOD</th>\n",
       "      <th>AN_ANEM_W_SEV</th>\n",
       "      <th>AN_NUTS_W_OWT</th>\n",
       "      <th>...</th>\n",
       "      <th>RH_ANCP_W_TOT</th>\n",
       "      <th>RH_DELA_C_TOT</th>\n",
       "      <th>RH_DELP_C_DHF</th>\n",
       "      <th>RH_PAHC_W_PR1</th>\n",
       "      <th>WE_DMKH_W_WIF</th>\n",
       "      <th>WS_SRCE_H_IMP</th>\n",
       "      <th>WS_SRCE_H_PIP</th>\n",
       "      <th>WS_TLET_H_NIM</th>\n",
       "      <th>WS_WTRT_H_APP</th>\n",
       "      <th>cluster</th>\n",
       "    </tr>\n",
       "  </thead>\n",
       "  <tbody>\n",
       "    <tr>\n",
       "      <th>0</th>\n",
       "      <td>Afghanistan</td>\n",
       "      <td>AFG</td>\n",
       "      <td>AF2015DHS</td>\n",
       "      <td>100.000000</td>\n",
       "      <td>51.800000</td>\n",
       "      <td>94.000000</td>\n",
       "      <td>37.784615</td>\n",
       "      <td>8.453846</td>\n",
       "      <td>0.646154</td>\n",
       "      <td>33.459259</td>\n",
       "      <td>...</td>\n",
       "      <td>100.0</td>\n",
       "      <td>100.0</td>\n",
       "      <td>48.1</td>\n",
       "      <td>88.5</td>\n",
       "      <td>4.8</td>\n",
       "      <td>65.3</td>\n",
       "      <td>2.3</td>\n",
       "      <td>66.3</td>\n",
       "      <td>6.0</td>\n",
       "      <td>6</td>\n",
       "    </tr>\n",
       "    <tr>\n",
       "      <th>1</th>\n",
       "      <td>Albania</td>\n",
       "      <td>ALB</td>\n",
       "      <td>AL2017DHS</td>\n",
       "      <td>62.200000</td>\n",
       "      <td>64.400000</td>\n",
       "      <td>95.191111</td>\n",
       "      <td>22.700000</td>\n",
       "      <td>3.000000</td>\n",
       "      <td>0.400000</td>\n",
       "      <td>45.200000</td>\n",
       "      <td>...</td>\n",
       "      <td>100.0</td>\n",
       "      <td>100.0</td>\n",
       "      <td>98.6</td>\n",
       "      <td>37.1</td>\n",
       "      <td>14.5</td>\n",
       "      <td>83.3</td>\n",
       "      <td>48.8</td>\n",
       "      <td>3.0</td>\n",
       "      <td>4.8</td>\n",
       "      <td>0</td>\n",
       "    </tr>\n",
       "    <tr>\n",
       "      <th>2</th>\n",
       "      <td>Angola</td>\n",
       "      <td>AGO</td>\n",
       "      <td>AO2015DHS</td>\n",
       "      <td>85.140541</td>\n",
       "      <td>84.300000</td>\n",
       "      <td>98.100000</td>\n",
       "      <td>37.784615</td>\n",
       "      <td>8.453846</td>\n",
       "      <td>0.646154</td>\n",
       "      <td>33.459259</td>\n",
       "      <td>...</td>\n",
       "      <td>100.0</td>\n",
       "      <td>100.0</td>\n",
       "      <td>45.6</td>\n",
       "      <td>70.2</td>\n",
       "      <td>21.6</td>\n",
       "      <td>52.3</td>\n",
       "      <td>4.3</td>\n",
       "      <td>52.9</td>\n",
       "      <td>32.0</td>\n",
       "      <td>2</td>\n",
       "    </tr>\n",
       "    <tr>\n",
       "      <th>3</th>\n",
       "      <td>Armenia</td>\n",
       "      <td>ARM</td>\n",
       "      <td>AM2016DHS</td>\n",
       "      <td>93.000000</td>\n",
       "      <td>68.554839</td>\n",
       "      <td>99.300000</td>\n",
       "      <td>13.400000</td>\n",
       "      <td>1.300000</td>\n",
       "      <td>0.200000</td>\n",
       "      <td>45.000000</td>\n",
       "      <td>...</td>\n",
       "      <td>100.0</td>\n",
       "      <td>100.0</td>\n",
       "      <td>99.3</td>\n",
       "      <td>64.1</td>\n",
       "      <td>28.0</td>\n",
       "      <td>98.4</td>\n",
       "      <td>88.3</td>\n",
       "      <td>22.1</td>\n",
       "      <td>5.4</td>\n",
       "      <td>6</td>\n",
       "    </tr>\n",
       "    <tr>\n",
       "      <th>4</th>\n",
       "      <td>Azerbaijan</td>\n",
       "      <td>AZE</td>\n",
       "      <td>AZ2006DHS</td>\n",
       "      <td>99.300000</td>\n",
       "      <td>50.900000</td>\n",
       "      <td>95.191111</td>\n",
       "      <td>37.000000</td>\n",
       "      <td>7.200000</td>\n",
       "      <td>0.800000</td>\n",
       "      <td>47.400000</td>\n",
       "      <td>...</td>\n",
       "      <td>100.0</td>\n",
       "      <td>100.0</td>\n",
       "      <td>77.7</td>\n",
       "      <td>81.8</td>\n",
       "      <td>20.1</td>\n",
       "      <td>80.3</td>\n",
       "      <td>34.0</td>\n",
       "      <td>15.2</td>\n",
       "      <td>69.7</td>\n",
       "      <td>6</td>\n",
       "    </tr>\n",
       "  </tbody>\n",
       "</table>\n",
       "<p>5 rows × 62 columns</p>\n",
       "</div>"
      ],
      "text/plain": [
       "   CountryName ISO3_CountryCode   SurveyId  AH_HINS_W_NON  AH_TOBC_M_NON  \\\n",
       "0  Afghanistan              AFG  AF2015DHS     100.000000      51.800000   \n",
       "1      Albania              ALB  AL2017DHS      62.200000      64.400000   \n",
       "2       Angola              AGO  AO2015DHS      85.140541      84.300000   \n",
       "3      Armenia              ARM  AM2016DHS      93.000000      68.554839   \n",
       "4   Azerbaijan              AZE  AZ2006DHS      99.300000      50.900000   \n",
       "\n",
       "   AH_TOBC_W_NON  AN_ANEM_W_ANY  AN_ANEM_W_MOD  AN_ANEM_W_SEV  AN_NUTS_W_OWT  \\\n",
       "0      94.000000      37.784615       8.453846       0.646154      33.459259   \n",
       "1      95.191111      22.700000       3.000000       0.400000      45.200000   \n",
       "2      98.100000      37.784615       8.453846       0.646154      33.459259   \n",
       "3      99.300000      13.400000       1.300000       0.200000      45.000000   \n",
       "4      95.191111      37.000000       7.200000       0.800000      47.400000   \n",
       "\n",
       "    ...     RH_ANCP_W_TOT  RH_DELA_C_TOT  RH_DELP_C_DHF  RH_PAHC_W_PR1  \\\n",
       "0   ...             100.0          100.0           48.1           88.5   \n",
       "1   ...             100.0          100.0           98.6           37.1   \n",
       "2   ...             100.0          100.0           45.6           70.2   \n",
       "3   ...             100.0          100.0           99.3           64.1   \n",
       "4   ...             100.0          100.0           77.7           81.8   \n",
       "\n",
       "   WE_DMKH_W_WIF  WS_SRCE_H_IMP  WS_SRCE_H_PIP  WS_TLET_H_NIM  WS_WTRT_H_APP  \\\n",
       "0            4.8           65.3            2.3           66.3            6.0   \n",
       "1           14.5           83.3           48.8            3.0            4.8   \n",
       "2           21.6           52.3            4.3           52.9           32.0   \n",
       "3           28.0           98.4           88.3           22.1            5.4   \n",
       "4           20.1           80.3           34.0           15.2           69.7   \n",
       "\n",
       "   cluster  \n",
       "0        6  \n",
       "1        0  \n",
       "2        2  \n",
       "3        6  \n",
       "4        6  \n",
       "\n",
       "[5 rows x 62 columns]"
      ]
     },
     "execution_count": 31,
     "metadata": {},
     "output_type": "execute_result"
    }
   ],
   "source": [
    "df_clusters = pd.merge(dhs_country_codebook, df_transformed.reset_index())\n",
    "df_clusters.head()"
   ]
  },
  {
   "cell_type": "code",
   "execution_count": 32,
   "metadata": {},
   "outputs": [],
   "source": [
    "import plotly.plotly as py\n",
    "import plotly.graph_objs as go\n",
    "from plotly.offline import download_plotlyjs, init_notebook_mode, plot, iplot"
   ]
  },
  {
   "cell_type": "code",
   "execution_count": 33,
   "metadata": {},
   "outputs": [
    {
     "data": {
      "text/html": [
       "<script>requirejs.config({paths: { 'plotly': ['https://cdn.plot.ly/plotly-latest.min']},});if(!window.Plotly) {{require(['plotly'],function(plotly) {window.Plotly=plotly;});}}</script>"
      ],
      "text/vnd.plotly.v1+html": [
       "<script>requirejs.config({paths: { 'plotly': ['https://cdn.plot.ly/plotly-latest.min']},});if(!window.Plotly) {{require(['plotly'],function(plotly) {window.Plotly=plotly;});}}</script>"
      ]
     },
     "metadata": {},
     "output_type": "display_data"
    }
   ],
   "source": [
    "# Connect Javascript to display the plots in the notebook\n",
    "init_notebook_mode(connected=True)"
   ]
  },
  {
   "cell_type": "code",
   "execution_count": 35,
   "metadata": {},
   "outputs": [],
   "source": [
    "# # Standard plotly imports\n",
    "# import plotly.plotly as py\n",
    "# import plotly.graph_objs as go\n",
    "# from plotly.offline import iplot\n",
    "# # Using cufflinks in offline mode\n",
    "# import cufflinks\n",
    "# cufflinks.go_offline()"
   ]
  },
  {
   "cell_type": "code",
   "execution_count": 80,
   "metadata": {},
   "outputs": [],
   "source": [
    "scale = [[0, 'rgb(166,206,227)'], \n",
    "         [1, 'rgb(31,120,180)'], \n",
    "         [2, 'rgb(178,223,138)'], \n",
    "         [3, 'rgb(51,160,44)'], \n",
    "         [4, 'rgb(251,154,153)'],\n",
    "         [5, 'rgb(251,154,153)'],\n",
    "         [6, 'rgb(251,154,153)'],\n",
    "         [7, 'rgb(227,26,28)']]"
   ]
  },
  {
   "cell_type": "code",
   "execution_count": 103,
   "metadata": {},
   "outputs": [],
   "source": [
    "data = [dict(type='choropleth',\n",
    "           locations=df_clusters['ISO3_CountryCode'], \n",
    "           z = df_clusters['cluster'],\n",
    "            text=df_clusters['CountryName'],\n",
    "             colorscale='Blackbody', #scale, Rainbow\n",
    "             autocolorscale = False,\n",
    "            colorbar = {'title': 'Indicator'}\n",
    "            )]"
   ]
  },
  {
   "cell_type": "code",
   "execution_count": 104,
   "metadata": {},
   "outputs": [],
   "source": [
    "layout = dict(title='My Title',\n",
    "             geo=dict(showframe=False,\n",
    "                     projection={'type':'natural earth'}))"
   ]
  },
  {
   "cell_type": "code",
   "execution_count": 105,
   "metadata": {},
   "outputs": [
    {
     "data": {
      "application/vnd.plotly.v1+json": {
       "data": [
        {
         "autocolorscale": false,
         "colorbar": {
          "title": "Indicator"
         },
         "colorscale": "Blackbody",
         "locations": [
          "AFG",
          "ALB",
          "AGO",
          "ARM",
          "AZE",
          "BGD",
          "BEN",
          "BOL",
          "BWA",
          "BRA",
          "BFA",
          "BDI",
          "KHM",
          "CMR",
          "CAF",
          "TCD",
          "COL",
          "COM",
          "COG",
          "COD",
          "CIV",
          "DOM",
          "ECU",
          "EGY",
          "SLV",
          "ERI",
          "ETH",
          "GAB",
          "GMB",
          "GHA",
          "GTM",
          "GIN",
          "GUY",
          "HTI",
          "HND",
          "IND",
          "IDN",
          "JOR",
          "KAZ",
          "KEN",
          "KGZ",
          "LSO",
          "LBR",
          "MDG",
          "MWI",
          "MDV",
          "MLI",
          "MRT",
          "MEX",
          "MDA",
          "MAR",
          "MOZ",
          "MMR",
          "NAM",
          "NPL",
          "NIC",
          "NER",
          "NGA",
          "PAK",
          "PRY",
          "PER",
          "PHL",
          "RWA",
          "STP",
          "SEN",
          "SLE",
          "ZAF",
          "LKA",
          "SDN",
          "SWZ",
          "TJK",
          "TZA",
          "THA",
          "TLS",
          "TGO",
          "TTO",
          "TUN",
          "TUR",
          "TKM",
          "UGA",
          "UKR",
          "UZB",
          "VNM",
          "YEM",
          "ZMB",
          "ZWE"
         ],
         "text": [
          "Afghanistan",
          "Albania",
          "Angola",
          "Armenia",
          "Azerbaijan",
          "Bangladesh",
          "Benin",
          "Bolivia",
          "Botswana",
          "Brazil",
          "Burkina Faso",
          "Burundi",
          "Cambodia",
          "Cameroon",
          "Central African Republic",
          "Chad",
          "Colombia",
          "Comoros",
          "Congo",
          "Congo Democratic Republic",
          "Cote d'Ivoire",
          "Dominican Republic",
          "Ecuador",
          "Egypt",
          "El Salvador",
          "Eritrea",
          "Ethiopia",
          "Gabon",
          "Gambia",
          "Ghana",
          "Guatemala",
          "Guinea",
          "Guyana",
          "Haiti",
          "Honduras",
          "India",
          "Indonesia",
          "Jordan",
          "Kazakhstan",
          "Kenya",
          "Kyrgyz Republic",
          "Lesotho",
          "Liberia",
          "Madagascar",
          "Malawi",
          "Maldives",
          "Mali",
          "Mauritania",
          "Mexico",
          "Moldova",
          "Morocco",
          "Mozambique",
          "Myanmar",
          "Namibia",
          "Nepal",
          "Nicaragua",
          "Niger",
          "Nigeria",
          "Pakistan",
          "Paraguay",
          "Peru",
          "Philippines",
          "Rwanda",
          "Sao Tome and Principe",
          "Senegal",
          "Sierra Leone",
          "South Africa",
          "Sri Lanka",
          "Sudan",
          "Swaziland",
          "Tajikistan",
          "Tanzania",
          "Thailand",
          "Timor-Leste",
          "Togo",
          "Trinidad and Tobago",
          "Tunisia",
          "Turkey",
          "Turkmenistan",
          "Uganda",
          "Ukraine",
          "Uzbekistan",
          "Vietnam",
          "Yemen",
          "Zambia",
          "Zimbabwe"
         ],
         "type": "choropleth",
         "z": [
          6,
          0,
          2,
          6,
          6,
          6,
          5,
          6,
          6,
          6,
          6,
          4,
          4,
          2,
          0,
          0,
          1,
          4,
          2,
          2,
          7,
          6,
          6,
          6,
          6,
          4,
          4,
          2,
          4,
          6,
          6,
          3,
          0,
          2,
          6,
          0,
          4,
          6,
          0,
          6,
          4,
          0,
          6,
          6,
          6,
          6,
          6,
          4,
          6,
          0,
          6,
          6,
          6,
          2,
          6,
          0,
          4,
          6,
          6,
          0,
          2,
          0,
          6,
          4,
          4,
          6,
          2,
          6,
          6,
          6,
          6,
          6,
          6,
          4,
          6,
          6,
          6,
          6,
          6,
          6,
          6,
          6,
          6,
          6,
          6,
          0
         ]
        }
       ],
       "layout": {
        "geo": {
         "projection": {
          "type": "natural earth"
         },
         "showframe": false
        },
        "title": "My Title"
       }
      },
      "text/html": [
       "<div id=\"9b99a4c9-4cc1-44e7-97b3-94c915c4e27d\" style=\"height: 525px; width: 100%;\" class=\"plotly-graph-div\"></div><script type=\"text/javascript\">require([\"plotly\"], function(Plotly) { window.PLOTLYENV=window.PLOTLYENV || {};window.PLOTLYENV.BASE_URL=\"https://plot.ly\";Plotly.newPlot(\"9b99a4c9-4cc1-44e7-97b3-94c915c4e27d\", [{\"type\": \"choropleth\", \"locations\": [\"AFG\", \"ALB\", \"AGO\", \"ARM\", \"AZE\", \"BGD\", \"BEN\", \"BOL\", \"BWA\", \"BRA\", \"BFA\", \"BDI\", \"KHM\", \"CMR\", \"CAF\", \"TCD\", \"COL\", \"COM\", \"COG\", \"COD\", \"CIV\", \"DOM\", \"ECU\", \"EGY\", \"SLV\", \"ERI\", \"ETH\", \"GAB\", \"GMB\", \"GHA\", \"GTM\", \"GIN\", \"GUY\", \"HTI\", \"HND\", \"IND\", \"IDN\", \"JOR\", \"KAZ\", \"KEN\", \"KGZ\", \"LSO\", \"LBR\", \"MDG\", \"MWI\", \"MDV\", \"MLI\", \"MRT\", \"MEX\", \"MDA\", \"MAR\", \"MOZ\", \"MMR\", \"NAM\", \"NPL\", \"NIC\", \"NER\", \"NGA\", \"PAK\", \"PRY\", \"PER\", \"PHL\", \"RWA\", \"STP\", \"SEN\", \"SLE\", \"ZAF\", \"LKA\", \"SDN\", \"SWZ\", \"TJK\", \"TZA\", \"THA\", \"TLS\", \"TGO\", \"TTO\", \"TUN\", \"TUR\", \"TKM\", \"UGA\", \"UKR\", \"UZB\", \"VNM\", \"YEM\", \"ZMB\", \"ZWE\"], \"z\": [6, 0, 2, 6, 6, 6, 5, 6, 6, 6, 6, 4, 4, 2, 0, 0, 1, 4, 2, 2, 7, 6, 6, 6, 6, 4, 4, 2, 4, 6, 6, 3, 0, 2, 6, 0, 4, 6, 0, 6, 4, 0, 6, 6, 6, 6, 6, 4, 6, 0, 6, 6, 6, 2, 6, 0, 4, 6, 6, 0, 2, 0, 6, 4, 4, 6, 2, 6, 6, 6, 6, 6, 6, 4, 6, 6, 6, 6, 6, 6, 6, 6, 6, 6, 6, 0], \"text\": [\"Afghanistan\", \"Albania\", \"Angola\", \"Armenia\", \"Azerbaijan\", \"Bangladesh\", \"Benin\", \"Bolivia\", \"Botswana\", \"Brazil\", \"Burkina Faso\", \"Burundi\", \"Cambodia\", \"Cameroon\", \"Central African Republic\", \"Chad\", \"Colombia\", \"Comoros\", \"Congo\", \"Congo Democratic Republic\", \"Cote d'Ivoire\", \"Dominican Republic\", \"Ecuador\", \"Egypt\", \"El Salvador\", \"Eritrea\", \"Ethiopia\", \"Gabon\", \"Gambia\", \"Ghana\", \"Guatemala\", \"Guinea\", \"Guyana\", \"Haiti\", \"Honduras\", \"India\", \"Indonesia\", \"Jordan\", \"Kazakhstan\", \"Kenya\", \"Kyrgyz Republic\", \"Lesotho\", \"Liberia\", \"Madagascar\", \"Malawi\", \"Maldives\", \"Mali\", \"Mauritania\", \"Mexico\", \"Moldova\", \"Morocco\", \"Mozambique\", \"Myanmar\", \"Namibia\", \"Nepal\", \"Nicaragua\", \"Niger\", \"Nigeria\", \"Pakistan\", \"Paraguay\", \"Peru\", \"Philippines\", \"Rwanda\", \"Sao Tome and Principe\", \"Senegal\", \"Sierra Leone\", \"South Africa\", \"Sri Lanka\", \"Sudan\", \"Swaziland\", \"Tajikistan\", \"Tanzania\", \"Thailand\", \"Timor-Leste\", \"Togo\", \"Trinidad and Tobago\", \"Tunisia\", \"Turkey\", \"Turkmenistan\", \"Uganda\", \"Ukraine\", \"Uzbekistan\", \"Vietnam\", \"Yemen\", \"Zambia\", \"Zimbabwe\"], \"colorscale\": \"Blackbody\", \"autocolorscale\": false, \"colorbar\": {\"title\": \"Indicator\"}}], {\"title\": \"My Title\", \"geo\": {\"showframe\": false, \"projection\": {\"type\": \"natural earth\"}}}, {\"showLink\": true, \"linkText\": \"Export to plot.ly\"})});</script>"
      ],
      "text/vnd.plotly.v1+html": [
       "<div id=\"9b99a4c9-4cc1-44e7-97b3-94c915c4e27d\" style=\"height: 525px; width: 100%;\" class=\"plotly-graph-div\"></div><script type=\"text/javascript\">require([\"plotly\"], function(Plotly) { window.PLOTLYENV=window.PLOTLYENV || {};window.PLOTLYENV.BASE_URL=\"https://plot.ly\";Plotly.newPlot(\"9b99a4c9-4cc1-44e7-97b3-94c915c4e27d\", [{\"type\": \"choropleth\", \"locations\": [\"AFG\", \"ALB\", \"AGO\", \"ARM\", \"AZE\", \"BGD\", \"BEN\", \"BOL\", \"BWA\", \"BRA\", \"BFA\", \"BDI\", \"KHM\", \"CMR\", \"CAF\", \"TCD\", \"COL\", \"COM\", \"COG\", \"COD\", \"CIV\", \"DOM\", \"ECU\", \"EGY\", \"SLV\", \"ERI\", \"ETH\", \"GAB\", \"GMB\", \"GHA\", \"GTM\", \"GIN\", \"GUY\", \"HTI\", \"HND\", \"IND\", \"IDN\", \"JOR\", \"KAZ\", \"KEN\", \"KGZ\", \"LSO\", \"LBR\", \"MDG\", \"MWI\", \"MDV\", \"MLI\", \"MRT\", \"MEX\", \"MDA\", \"MAR\", \"MOZ\", \"MMR\", \"NAM\", \"NPL\", \"NIC\", \"NER\", \"NGA\", \"PAK\", \"PRY\", \"PER\", \"PHL\", \"RWA\", \"STP\", \"SEN\", \"SLE\", \"ZAF\", \"LKA\", \"SDN\", \"SWZ\", \"TJK\", \"TZA\", \"THA\", \"TLS\", \"TGO\", \"TTO\", \"TUN\", \"TUR\", \"TKM\", \"UGA\", \"UKR\", \"UZB\", \"VNM\", \"YEM\", \"ZMB\", \"ZWE\"], \"z\": [6, 0, 2, 6, 6, 6, 5, 6, 6, 6, 6, 4, 4, 2, 0, 0, 1, 4, 2, 2, 7, 6, 6, 6, 6, 4, 4, 2, 4, 6, 6, 3, 0, 2, 6, 0, 4, 6, 0, 6, 4, 0, 6, 6, 6, 6, 6, 4, 6, 0, 6, 6, 6, 2, 6, 0, 4, 6, 6, 0, 2, 0, 6, 4, 4, 6, 2, 6, 6, 6, 6, 6, 6, 4, 6, 6, 6, 6, 6, 6, 6, 6, 6, 6, 6, 0], \"text\": [\"Afghanistan\", \"Albania\", \"Angola\", \"Armenia\", \"Azerbaijan\", \"Bangladesh\", \"Benin\", \"Bolivia\", \"Botswana\", \"Brazil\", \"Burkina Faso\", \"Burundi\", \"Cambodia\", \"Cameroon\", \"Central African Republic\", \"Chad\", \"Colombia\", \"Comoros\", \"Congo\", \"Congo Democratic Republic\", \"Cote d'Ivoire\", \"Dominican Republic\", \"Ecuador\", \"Egypt\", \"El Salvador\", \"Eritrea\", \"Ethiopia\", \"Gabon\", \"Gambia\", \"Ghana\", \"Guatemala\", \"Guinea\", \"Guyana\", \"Haiti\", \"Honduras\", \"India\", \"Indonesia\", \"Jordan\", \"Kazakhstan\", \"Kenya\", \"Kyrgyz Republic\", \"Lesotho\", \"Liberia\", \"Madagascar\", \"Malawi\", \"Maldives\", \"Mali\", \"Mauritania\", \"Mexico\", \"Moldova\", \"Morocco\", \"Mozambique\", \"Myanmar\", \"Namibia\", \"Nepal\", \"Nicaragua\", \"Niger\", \"Nigeria\", \"Pakistan\", \"Paraguay\", \"Peru\", \"Philippines\", \"Rwanda\", \"Sao Tome and Principe\", \"Senegal\", \"Sierra Leone\", \"South Africa\", \"Sri Lanka\", \"Sudan\", \"Swaziland\", \"Tajikistan\", \"Tanzania\", \"Thailand\", \"Timor-Leste\", \"Togo\", \"Trinidad and Tobago\", \"Tunisia\", \"Turkey\", \"Turkmenistan\", \"Uganda\", \"Ukraine\", \"Uzbekistan\", \"Vietnam\", \"Yemen\", \"Zambia\", \"Zimbabwe\"], \"colorscale\": \"Blackbody\", \"autocolorscale\": false, \"colorbar\": {\"title\": \"Indicator\"}}], {\"title\": \"My Title\", \"geo\": {\"showframe\": false, \"projection\": {\"type\": \"natural earth\"}}}, {\"showLink\": true, \"linkText\": \"Export to plot.ly\"})});</script>"
      ]
     },
     "metadata": {},
     "output_type": "display_data"
    }
   ],
   "source": [
    "fig = dict(data=data, layout=layout)\n",
    "iplot(fig)"
   ]
  },
  {
   "cell_type": "code",
   "execution_count": null,
   "metadata": {},
   "outputs": [],
   "source": []
  },
  {
   "cell_type": "code",
   "execution_count": null,
   "metadata": {},
   "outputs": [],
   "source": []
  },
  {
   "cell_type": "code",
   "execution_count": null,
   "metadata": {},
   "outputs": [],
   "source": []
  },
  {
   "cell_type": "code",
   "execution_count": null,
   "metadata": {},
   "outputs": [],
   "source": []
  },
  {
   "cell_type": "code",
   "execution_count": null,
   "metadata": {},
   "outputs": [],
   "source": []
  },
  {
   "cell_type": "code",
   "execution_count": null,
   "metadata": {},
   "outputs": [],
   "source": []
  }
 ],
 "metadata": {
  "kernelspec": {
   "display_name": "Python 3",
   "language": "python",
   "name": "python3"
  },
  "language_info": {
   "codemirror_mode": {
    "name": "ipython",
    "version": 3
   },
   "file_extension": ".py",
   "mimetype": "text/x-python",
   "name": "python",
   "nbconvert_exporter": "python",
   "pygments_lexer": "ipython3",
   "version": "3.7.2"
  }
 },
 "nbformat": 4,
 "nbformat_minor": 2
}
