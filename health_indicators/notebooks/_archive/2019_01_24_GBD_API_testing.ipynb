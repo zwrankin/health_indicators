{
 "cells": [
  {
   "cell_type": "code",
   "execution_count": null,
   "metadata": {},
   "outputs": [],
   "source": []
  },
  {
   "cell_type": "code",
   "execution_count": 1,
   "metadata": {},
   "outputs": [],
   "source": [
    "import pandas as pd\n",
    "import requests"
   ]
  },
  {
   "cell_type": "code",
   "execution_count": null,
   "metadata": {},
   "outputs": [],
   "source": [
    "from src.data.download_DHS import GBD_API_KEY"
   ]
  },
  {
   "cell_type": "code",
   "execution_count": 49,
   "metadata": {},
   "outputs": [],
   "source": [
    "url = 'fhttps://api.healthdata.org/healthdata/v1/data/gbd/cause/?cause_id=294&location_id=102&measure_id=1&metric_id=1&year_id=2016&authorization={GBD_API_KEY}'"
   ]
  },
  {
   "cell_type": "code",
   "execution_count": 65,
   "metadata": {},
   "outputs": [],
   "source": [
    "# I DON'T THINK COVARIATES WORK \n",
    "# url = f'https://api.healthdata.org/healthdata/v1/data/gbd/covariate/?covariate_id=8&location_id=102&year_id=2016&authorization={GBD_API_KEY}'"
   ]
  },
  {
   "cell_type": "code",
   "execution_count": 96,
   "metadata": {},
   "outputs": [],
   "source": [
    "# Risk \n",
    "# Attributable Risk \n",
    "url = 'https://api.healthdata.org/healthdata/v1/data/gbd/risk/?risk_id=82&cause_id=294&location_id=102&measure_id=1&metric_id=1&year_id=2016&age_group_id=1&authorization={GBD_API_KEY}'\n",
    "# SEV - Remember these must be most detailed risks!\n",
    "url = 'https://api.healthdata.org/healthdata/v1/data/gbd/sev/?risk_id=82&measure_id=29&metric_id=3&year_id=2016&age_group_id=1&authorization={GBD_API_KEY}'\n",
    "url = 'https://api.healthdata.org/healthdata/v1/data/gbd/sev/?risk_id=83&measure_id=29&location_id=102&age_group_id=5&sex_id=3&authorization={GBD_API_KEY}'\n"
   ]
  },
  {
   "cell_type": "code",
   "execution_count": 97,
   "metadata": {},
   "outputs": [],
   "source": [
    "r = requests.get(url)\n",
    "status = r.json()['meta']['status']\n",
    "if status['code'] != '200': \n",
    "    raise AssertionError(f'Failed HealthData API query - {status[\"message\"]}')"
   ]
  },
  {
   "cell_type": "code",
   "execution_count": 98,
   "metadata": {},
   "outputs": [],
   "source": [
    "cols = r.json()['meta']['fields']\n",
    "df = pd.DataFrame(r.json()['data'], columns=cols)"
   ]
  },
  {
   "cell_type": "code",
   "execution_count": 99,
   "metadata": {},
   "outputs": [
    {
     "data": {
      "text/html": [
       "<div>\n",
       "<style scoped>\n",
       "    .dataframe tbody tr th:only-of-type {\n",
       "        vertical-align: middle;\n",
       "    }\n",
       "\n",
       "    .dataframe tbody tr th {\n",
       "        vertical-align: top;\n",
       "    }\n",
       "\n",
       "    .dataframe thead th {\n",
       "        text-align: right;\n",
       "    }\n",
       "</style>\n",
       "<table border=\"1\" class=\"dataframe\">\n",
       "  <thead>\n",
       "    <tr style=\"text-align: right;\">\n",
       "      <th></th>\n",
       "      <th>measure_id</th>\n",
       "      <th>year_id</th>\n",
       "      <th>location_id</th>\n",
       "      <th>sex_id</th>\n",
       "      <th>age_group_id</th>\n",
       "      <th>risk_id</th>\n",
       "      <th>metric_id</th>\n",
       "      <th>val</th>\n",
       "      <th>upper</th>\n",
       "      <th>lower</th>\n",
       "    </tr>\n",
       "  </thead>\n",
       "  <tbody>\n",
       "    <tr>\n",
       "      <th>0</th>\n",
       "      <td>29</td>\n",
       "      <td>2005</td>\n",
       "      <td>102</td>\n",
       "      <td>3</td>\n",
       "      <td>5</td>\n",
       "      <td>83</td>\n",
       "      <td>3</td>\n",
       "      <td>0.0057252189919</td>\n",
       "      <td>0.00674183340846</td>\n",
       "      <td>0.00388205519801</td>\n",
       "    </tr>\n",
       "    <tr>\n",
       "      <th>1</th>\n",
       "      <td>29</td>\n",
       "      <td>2003</td>\n",
       "      <td>102</td>\n",
       "      <td>3</td>\n",
       "      <td>5</td>\n",
       "      <td>83</td>\n",
       "      <td>3</td>\n",
       "      <td>0.00669831152562</td>\n",
       "      <td>0.00793557933359</td>\n",
       "      <td>0.00442603847619</td>\n",
       "    </tr>\n",
       "    <tr>\n",
       "      <th>2</th>\n",
       "      <td>29</td>\n",
       "      <td>1990</td>\n",
       "      <td>102</td>\n",
       "      <td>3</td>\n",
       "      <td>5</td>\n",
       "      <td>83</td>\n",
       "      <td>3</td>\n",
       "      <td>0.0175299746752</td>\n",
       "      <td>0.0210764459432</td>\n",
       "      <td>0.0111091497981</td>\n",
       "    </tr>\n",
       "    <tr>\n",
       "      <th>3</th>\n",
       "      <td>29</td>\n",
       "      <td>2006</td>\n",
       "      <td>102</td>\n",
       "      <td>3</td>\n",
       "      <td>5</td>\n",
       "      <td>83</td>\n",
       "      <td>3</td>\n",
       "      <td>0.00555107860062</td>\n",
       "      <td>0.00651869305108</td>\n",
       "      <td>0.00374861700836</td>\n",
       "    </tr>\n",
       "    <tr>\n",
       "      <th>4</th>\n",
       "      <td>29</td>\n",
       "      <td>1996</td>\n",
       "      <td>102</td>\n",
       "      <td>3</td>\n",
       "      <td>5</td>\n",
       "      <td>83</td>\n",
       "      <td>3</td>\n",
       "      <td>0.0155767638014</td>\n",
       "      <td>0.018816854468</td>\n",
       "      <td>0.0100743593595</td>\n",
       "    </tr>\n",
       "  </tbody>\n",
       "</table>\n",
       "</div>"
      ],
      "text/plain": [
       "  measure_id year_id location_id sex_id age_group_id risk_id metric_id  \\\n",
       "0         29    2005         102      3            5      83         3   \n",
       "1         29    2003         102      3            5      83         3   \n",
       "2         29    1990         102      3            5      83         3   \n",
       "3         29    2006         102      3            5      83         3   \n",
       "4         29    1996         102      3            5      83         3   \n",
       "\n",
       "                val             upper             lower  \n",
       "0   0.0057252189919  0.00674183340846  0.00388205519801  \n",
       "1  0.00669831152562  0.00793557933359  0.00442603847619  \n",
       "2   0.0175299746752   0.0210764459432   0.0111091497981  \n",
       "3  0.00555107860062  0.00651869305108  0.00374861700836  \n",
       "4   0.0155767638014    0.018816854468   0.0100743593595  "
      ]
     },
     "execution_count": 99,
     "metadata": {},
     "output_type": "execute_result"
    }
   ],
   "source": [
    "df.head()"
   ]
  },
  {
   "cell_type": "code",
   "execution_count": null,
   "metadata": {},
   "outputs": [],
   "source": []
  },
  {
   "cell_type": "code",
   "execution_count": null,
   "metadata": {},
   "outputs": [],
   "source": []
  },
  {
   "cell_type": "code",
   "execution_count": null,
   "metadata": {},
   "outputs": [],
   "source": []
  }
 ],
 "metadata": {
  "kernelspec": {
   "display_name": "Python 3",
   "language": "python",
   "name": "python3"
  },
  "language_info": {
   "codemirror_mode": {
    "name": "ipython",
    "version": 3
   },
   "file_extension": ".py",
   "mimetype": "text/x-python",
   "name": "python",
   "nbconvert_exporter": "python",
   "pygments_lexer": "ipython3",
   "version": "3.7.2"
  }
 },
 "nbformat": 4,
 "nbformat_minor": 2
}
